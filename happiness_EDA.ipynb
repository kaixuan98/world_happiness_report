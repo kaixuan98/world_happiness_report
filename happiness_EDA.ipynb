{
 "cells": [
  {
   "cell_type": "markdown",
   "metadata": {},
   "source": [
    "## Load Data"
   ]
  },
  {
   "cell_type": "code",
   "execution_count": 1,
   "metadata": {},
   "outputs": [
    {
     "name": "stdout",
     "output_type": "stream",
     "text": [
      "/Users/kaixuanchin/Desktop/Data Science/world_happiness_report/world_happiness_report\n",
      "/Users/kaixuanchin/Desktop/Data Science/world_happiness_report/world_happiness_report/world_happiness_data\n"
     ]
    }
   ],
   "source": [
    "import os \n",
    "import pandas as pd\n",
    "import numpy as np\n",
    "\n",
    "# change to the dataset directory\n",
    "ROOT = os.getcwd()\n",
    "PATH= \"/world_happiness_data\"\n",
    "print(ROOT)\n",
    "os.chdir(ROOT+PATH)\n",
    "print(os.getcwd())"
   ]
  },
  {
   "cell_type": "code",
   "execution_count": 2,
   "metadata": {},
   "outputs": [],
   "source": [
    "# read file from the directiory \n",
    "\n",
    "dataset_2015 = pd.read_csv(ROOT+PATH+\"/2015.csv\")   \n",
    "dataset_2016 = pd.read_csv(ROOT+PATH+\"/2016.csv\")   \n",
    "dataset_2017 = pd.read_csv(ROOT+PATH+\"/2017.csv\")   \n",
    "dataset_2018 = pd.read_csv(ROOT+PATH+\"/2018.csv\")   \n",
    "dataset_2019 = pd.read_csv(ROOT+PATH+\"/2019.csv\")   "
   ]
  },
  {
   "cell_type": "markdown",
   "metadata": {},
   "source": [
    "## Basic Analysis of Data "
   ]
  },
  {
   "cell_type": "code",
   "execution_count": 139,
   "metadata": {},
   "outputs": [],
   "source": [
    "dataset_2015 = dataset_2015.rename(columns={\"Economy (GDP per Capita)\" : \"Economy\" , \"Health (Life Expectancy)\" : \"Health\" , \"Trust (Government Corruption)\" : \"Trust\",})"
   ]
  },
  {
   "cell_type": "code",
   "execution_count": 140,
   "metadata": {},
   "outputs": [
    {
     "data": {
      "text/html": [
       "<div>\n",
       "<style scoped>\n",
       "    .dataframe tbody tr th:only-of-type {\n",
       "        vertical-align: middle;\n",
       "    }\n",
       "\n",
       "    .dataframe tbody tr th {\n",
       "        vertical-align: top;\n",
       "    }\n",
       "\n",
       "    .dataframe thead th {\n",
       "        text-align: right;\n",
       "    }\n",
       "</style>\n",
       "<table border=\"1\" class=\"dataframe\">\n",
       "  <thead>\n",
       "    <tr style=\"text-align: right;\">\n",
       "      <th></th>\n",
       "      <th>Country</th>\n",
       "      <th>Region</th>\n",
       "      <th>Happiness Rank</th>\n",
       "      <th>Happiness Score</th>\n",
       "      <th>Standard Error</th>\n",
       "      <th>Economy</th>\n",
       "      <th>Family</th>\n",
       "      <th>Health</th>\n",
       "      <th>Freedom</th>\n",
       "      <th>Trust</th>\n",
       "      <th>Generosity</th>\n",
       "      <th>Dystopia Residual</th>\n",
       "      <th>Country_codes</th>\n",
       "      <th>Continent_code</th>\n",
       "      <th>longitude</th>\n",
       "      <th>latitude</th>\n",
       "    </tr>\n",
       "  </thead>\n",
       "  <tbody>\n",
       "    <tr>\n",
       "      <th>0</th>\n",
       "      <td>Switzerland</td>\n",
       "      <td>Western Europe</td>\n",
       "      <td>1</td>\n",
       "      <td>7.587</td>\n",
       "      <td>0.03411</td>\n",
       "      <td>1.39651</td>\n",
       "      <td>1.34951</td>\n",
       "      <td>0.94143</td>\n",
       "      <td>0.66557</td>\n",
       "      <td>0.41978</td>\n",
       "      <td>0.29678</td>\n",
       "      <td>2.51738</td>\n",
       "      <td>CH</td>\n",
       "      <td>EU</td>\n",
       "      <td>8.231974</td>\n",
       "      <td>46.798562</td>\n",
       "    </tr>\n",
       "    <tr>\n",
       "      <th>1</th>\n",
       "      <td>Iceland</td>\n",
       "      <td>Western Europe</td>\n",
       "      <td>2</td>\n",
       "      <td>7.561</td>\n",
       "      <td>0.04884</td>\n",
       "      <td>1.30232</td>\n",
       "      <td>1.40223</td>\n",
       "      <td>0.94784</td>\n",
       "      <td>0.62877</td>\n",
       "      <td>0.14145</td>\n",
       "      <td>0.43630</td>\n",
       "      <td>2.70201</td>\n",
       "      <td>IS</td>\n",
       "      <td>EU</td>\n",
       "      <td>-18.105901</td>\n",
       "      <td>64.984182</td>\n",
       "    </tr>\n",
       "    <tr>\n",
       "      <th>2</th>\n",
       "      <td>Denmark</td>\n",
       "      <td>Western Europe</td>\n",
       "      <td>3</td>\n",
       "      <td>7.527</td>\n",
       "      <td>0.03328</td>\n",
       "      <td>1.32548</td>\n",
       "      <td>1.36058</td>\n",
       "      <td>0.87464</td>\n",
       "      <td>0.64938</td>\n",
       "      <td>0.48357</td>\n",
       "      <td>0.34139</td>\n",
       "      <td>2.49204</td>\n",
       "      <td>DK</td>\n",
       "      <td>EU</td>\n",
       "      <td>10.333328</td>\n",
       "      <td>55.670249</td>\n",
       "    </tr>\n",
       "    <tr>\n",
       "      <th>3</th>\n",
       "      <td>Norway</td>\n",
       "      <td>Western Europe</td>\n",
       "      <td>4</td>\n",
       "      <td>7.522</td>\n",
       "      <td>0.03880</td>\n",
       "      <td>1.45900</td>\n",
       "      <td>1.33095</td>\n",
       "      <td>0.88521</td>\n",
       "      <td>0.66973</td>\n",
       "      <td>0.36503</td>\n",
       "      <td>0.34699</td>\n",
       "      <td>2.46531</td>\n",
       "      <td>NO</td>\n",
       "      <td>EU</td>\n",
       "      <td>9.099972</td>\n",
       "      <td>60.500021</td>\n",
       "    </tr>\n",
       "    <tr>\n",
       "      <th>4</th>\n",
       "      <td>Canada</td>\n",
       "      <td>North America</td>\n",
       "      <td>5</td>\n",
       "      <td>7.427</td>\n",
       "      <td>0.03553</td>\n",
       "      <td>1.32629</td>\n",
       "      <td>1.32261</td>\n",
       "      <td>0.90563</td>\n",
       "      <td>0.63297</td>\n",
       "      <td>0.32957</td>\n",
       "      <td>0.45811</td>\n",
       "      <td>2.45176</td>\n",
       "      <td>CA</td>\n",
       "      <td>NA</td>\n",
       "      <td>-107.991707</td>\n",
       "      <td>61.066692</td>\n",
       "    </tr>\n",
       "  </tbody>\n",
       "</table>\n",
       "</div>"
      ],
      "text/plain": [
       "       Country          Region  Happiness Rank  Happiness Score  \\\n",
       "0  Switzerland  Western Europe               1            7.587   \n",
       "1      Iceland  Western Europe               2            7.561   \n",
       "2      Denmark  Western Europe               3            7.527   \n",
       "3       Norway  Western Europe               4            7.522   \n",
       "4       Canada   North America               5            7.427   \n",
       "\n",
       "   Standard Error  Economy   Family   Health  Freedom    Trust  Generosity  \\\n",
       "0         0.03411  1.39651  1.34951  0.94143  0.66557  0.41978     0.29678   \n",
       "1         0.04884  1.30232  1.40223  0.94784  0.62877  0.14145     0.43630   \n",
       "2         0.03328  1.32548  1.36058  0.87464  0.64938  0.48357     0.34139   \n",
       "3         0.03880  1.45900  1.33095  0.88521  0.66973  0.36503     0.34699   \n",
       "4         0.03553  1.32629  1.32261  0.90563  0.63297  0.32957     0.45811   \n",
       "\n",
       "   Dystopia Residual Country_codes Continent_code   longitude   latitude  \n",
       "0            2.51738            CH             EU    8.231974  46.798562  \n",
       "1            2.70201            IS             EU  -18.105901  64.984182  \n",
       "2            2.49204            DK             EU   10.333328  55.670249  \n",
       "3            2.46531            NO             EU    9.099972  60.500021  \n",
       "4            2.45176            CA             NA -107.991707  61.066692  "
      ]
     },
     "execution_count": 140,
     "metadata": {},
     "output_type": "execute_result"
    }
   ],
   "source": [
    "dataset_2015.head()"
   ]
  },
  {
   "cell_type": "code",
   "execution_count": 143,
   "metadata": {},
   "outputs": [],
   "source": [
    "dataset_2016 = dataset_2016.rename(columns={\"Economy (GDP per Capita)\" : \"Economy\" , \"Health (Life Expectancy)\" : \"Health\" , \n",
    "                                            \"Trust (Government Corruption)\" : \"Trust\",})"
   ]
  },
  {
   "cell_type": "code",
   "execution_count": 144,
   "metadata": {},
   "outputs": [
    {
     "data": {
      "text/html": [
       "<div>\n",
       "<style scoped>\n",
       "    .dataframe tbody tr th:only-of-type {\n",
       "        vertical-align: middle;\n",
       "    }\n",
       "\n",
       "    .dataframe tbody tr th {\n",
       "        vertical-align: top;\n",
       "    }\n",
       "\n",
       "    .dataframe thead th {\n",
       "        text-align: right;\n",
       "    }\n",
       "</style>\n",
       "<table border=\"1\" class=\"dataframe\">\n",
       "  <thead>\n",
       "    <tr style=\"text-align: right;\">\n",
       "      <th></th>\n",
       "      <th>Country</th>\n",
       "      <th>Region</th>\n",
       "      <th>Happiness Rank</th>\n",
       "      <th>Happiness Score</th>\n",
       "      <th>Lower Confidence Interval</th>\n",
       "      <th>Upper Confidence Interval</th>\n",
       "      <th>Economy</th>\n",
       "      <th>Family</th>\n",
       "      <th>Health</th>\n",
       "      <th>Freedom</th>\n",
       "      <th>Trust</th>\n",
       "      <th>Generosity</th>\n",
       "      <th>Dystopia Residual</th>\n",
       "    </tr>\n",
       "  </thead>\n",
       "  <tbody>\n",
       "    <tr>\n",
       "      <th>0</th>\n",
       "      <td>Denmark</td>\n",
       "      <td>Western Europe</td>\n",
       "      <td>1</td>\n",
       "      <td>7.526</td>\n",
       "      <td>7.460</td>\n",
       "      <td>7.592</td>\n",
       "      <td>1.44178</td>\n",
       "      <td>1.16374</td>\n",
       "      <td>0.79504</td>\n",
       "      <td>0.57941</td>\n",
       "      <td>0.44453</td>\n",
       "      <td>0.36171</td>\n",
       "      <td>2.73939</td>\n",
       "    </tr>\n",
       "    <tr>\n",
       "      <th>1</th>\n",
       "      <td>Switzerland</td>\n",
       "      <td>Western Europe</td>\n",
       "      <td>2</td>\n",
       "      <td>7.509</td>\n",
       "      <td>7.428</td>\n",
       "      <td>7.590</td>\n",
       "      <td>1.52733</td>\n",
       "      <td>1.14524</td>\n",
       "      <td>0.86303</td>\n",
       "      <td>0.58557</td>\n",
       "      <td>0.41203</td>\n",
       "      <td>0.28083</td>\n",
       "      <td>2.69463</td>\n",
       "    </tr>\n",
       "    <tr>\n",
       "      <th>2</th>\n",
       "      <td>Iceland</td>\n",
       "      <td>Western Europe</td>\n",
       "      <td>3</td>\n",
       "      <td>7.501</td>\n",
       "      <td>7.333</td>\n",
       "      <td>7.669</td>\n",
       "      <td>1.42666</td>\n",
       "      <td>1.18326</td>\n",
       "      <td>0.86733</td>\n",
       "      <td>0.56624</td>\n",
       "      <td>0.14975</td>\n",
       "      <td>0.47678</td>\n",
       "      <td>2.83137</td>\n",
       "    </tr>\n",
       "    <tr>\n",
       "      <th>3</th>\n",
       "      <td>Norway</td>\n",
       "      <td>Western Europe</td>\n",
       "      <td>4</td>\n",
       "      <td>7.498</td>\n",
       "      <td>7.421</td>\n",
       "      <td>7.575</td>\n",
       "      <td>1.57744</td>\n",
       "      <td>1.12690</td>\n",
       "      <td>0.79579</td>\n",
       "      <td>0.59609</td>\n",
       "      <td>0.35776</td>\n",
       "      <td>0.37895</td>\n",
       "      <td>2.66465</td>\n",
       "    </tr>\n",
       "    <tr>\n",
       "      <th>4</th>\n",
       "      <td>Finland</td>\n",
       "      <td>Western Europe</td>\n",
       "      <td>5</td>\n",
       "      <td>7.413</td>\n",
       "      <td>7.351</td>\n",
       "      <td>7.475</td>\n",
       "      <td>1.40598</td>\n",
       "      <td>1.13464</td>\n",
       "      <td>0.81091</td>\n",
       "      <td>0.57104</td>\n",
       "      <td>0.41004</td>\n",
       "      <td>0.25492</td>\n",
       "      <td>2.82596</td>\n",
       "    </tr>\n",
       "  </tbody>\n",
       "</table>\n",
       "</div>"
      ],
      "text/plain": [
       "       Country          Region  Happiness Rank  Happiness Score  \\\n",
       "0      Denmark  Western Europe               1            7.526   \n",
       "1  Switzerland  Western Europe               2            7.509   \n",
       "2      Iceland  Western Europe               3            7.501   \n",
       "3       Norway  Western Europe               4            7.498   \n",
       "4      Finland  Western Europe               5            7.413   \n",
       "\n",
       "   Lower Confidence Interval  Upper Confidence Interval  Economy   Family  \\\n",
       "0                      7.460                      7.592  1.44178  1.16374   \n",
       "1                      7.428                      7.590  1.52733  1.14524   \n",
       "2                      7.333                      7.669  1.42666  1.18326   \n",
       "3                      7.421                      7.575  1.57744  1.12690   \n",
       "4                      7.351                      7.475  1.40598  1.13464   \n",
       "\n",
       "    Health  Freedom    Trust  Generosity  Dystopia Residual  \n",
       "0  0.79504  0.57941  0.44453     0.36171            2.73939  \n",
       "1  0.86303  0.58557  0.41203     0.28083            2.69463  \n",
       "2  0.86733  0.56624  0.14975     0.47678            2.83137  \n",
       "3  0.79579  0.59609  0.35776     0.37895            2.66465  \n",
       "4  0.81091  0.57104  0.41004     0.25492            2.82596  "
      ]
     },
     "execution_count": 144,
     "metadata": {},
     "output_type": "execute_result"
    }
   ],
   "source": [
    "dataset_2016.head()"
   ]
  },
  {
   "cell_type": "code",
   "execution_count": 146,
   "metadata": {},
   "outputs": [],
   "source": [
    "dataset_2017 = dataset_2017.rename(columns={\"Economy..GDP.per.Capita.\" : \"Economy\" , \"Health..Life.Expectancy.\" : \"Health\" , \n",
    "                                            \"Trust..Government.Corruption.\" : \"Trust\",})"
   ]
  },
  {
   "cell_type": "code",
   "execution_count": 147,
   "metadata": {},
   "outputs": [
    {
     "data": {
      "text/html": [
       "<div>\n",
       "<style scoped>\n",
       "    .dataframe tbody tr th:only-of-type {\n",
       "        vertical-align: middle;\n",
       "    }\n",
       "\n",
       "    .dataframe tbody tr th {\n",
       "        vertical-align: top;\n",
       "    }\n",
       "\n",
       "    .dataframe thead th {\n",
       "        text-align: right;\n",
       "    }\n",
       "</style>\n",
       "<table border=\"1\" class=\"dataframe\">\n",
       "  <thead>\n",
       "    <tr style=\"text-align: right;\">\n",
       "      <th></th>\n",
       "      <th>Country</th>\n",
       "      <th>Happiness.Rank</th>\n",
       "      <th>Happiness.Score</th>\n",
       "      <th>Whisker.high</th>\n",
       "      <th>Whisker.low</th>\n",
       "      <th>Economy</th>\n",
       "      <th>Family</th>\n",
       "      <th>Health</th>\n",
       "      <th>Freedom</th>\n",
       "      <th>Generosity</th>\n",
       "      <th>Trust</th>\n",
       "      <th>Dystopia.Residual</th>\n",
       "    </tr>\n",
       "  </thead>\n",
       "  <tbody>\n",
       "    <tr>\n",
       "      <th>0</th>\n",
       "      <td>Norway</td>\n",
       "      <td>1</td>\n",
       "      <td>7.537</td>\n",
       "      <td>7.594445</td>\n",
       "      <td>7.479556</td>\n",
       "      <td>1.616463</td>\n",
       "      <td>1.533524</td>\n",
       "      <td>0.796667</td>\n",
       "      <td>0.635423</td>\n",
       "      <td>0.362012</td>\n",
       "      <td>0.315964</td>\n",
       "      <td>2.277027</td>\n",
       "    </tr>\n",
       "    <tr>\n",
       "      <th>1</th>\n",
       "      <td>Denmark</td>\n",
       "      <td>2</td>\n",
       "      <td>7.522</td>\n",
       "      <td>7.581728</td>\n",
       "      <td>7.462272</td>\n",
       "      <td>1.482383</td>\n",
       "      <td>1.551122</td>\n",
       "      <td>0.792566</td>\n",
       "      <td>0.626007</td>\n",
       "      <td>0.355280</td>\n",
       "      <td>0.400770</td>\n",
       "      <td>2.313707</td>\n",
       "    </tr>\n",
       "    <tr>\n",
       "      <th>2</th>\n",
       "      <td>Iceland</td>\n",
       "      <td>3</td>\n",
       "      <td>7.504</td>\n",
       "      <td>7.622030</td>\n",
       "      <td>7.385970</td>\n",
       "      <td>1.480633</td>\n",
       "      <td>1.610574</td>\n",
       "      <td>0.833552</td>\n",
       "      <td>0.627163</td>\n",
       "      <td>0.475540</td>\n",
       "      <td>0.153527</td>\n",
       "      <td>2.322715</td>\n",
       "    </tr>\n",
       "    <tr>\n",
       "      <th>3</th>\n",
       "      <td>Switzerland</td>\n",
       "      <td>4</td>\n",
       "      <td>7.494</td>\n",
       "      <td>7.561772</td>\n",
       "      <td>7.426227</td>\n",
       "      <td>1.564980</td>\n",
       "      <td>1.516912</td>\n",
       "      <td>0.858131</td>\n",
       "      <td>0.620071</td>\n",
       "      <td>0.290549</td>\n",
       "      <td>0.367007</td>\n",
       "      <td>2.276716</td>\n",
       "    </tr>\n",
       "    <tr>\n",
       "      <th>4</th>\n",
       "      <td>Finland</td>\n",
       "      <td>5</td>\n",
       "      <td>7.469</td>\n",
       "      <td>7.527542</td>\n",
       "      <td>7.410458</td>\n",
       "      <td>1.443572</td>\n",
       "      <td>1.540247</td>\n",
       "      <td>0.809158</td>\n",
       "      <td>0.617951</td>\n",
       "      <td>0.245483</td>\n",
       "      <td>0.382612</td>\n",
       "      <td>2.430182</td>\n",
       "    </tr>\n",
       "  </tbody>\n",
       "</table>\n",
       "</div>"
      ],
      "text/plain": [
       "       Country  Happiness.Rank  Happiness.Score  Whisker.high  Whisker.low  \\\n",
       "0       Norway               1            7.537      7.594445     7.479556   \n",
       "1      Denmark               2            7.522      7.581728     7.462272   \n",
       "2      Iceland               3            7.504      7.622030     7.385970   \n",
       "3  Switzerland               4            7.494      7.561772     7.426227   \n",
       "4      Finland               5            7.469      7.527542     7.410458   \n",
       "\n",
       "    Economy    Family    Health   Freedom  Generosity     Trust  \\\n",
       "0  1.616463  1.533524  0.796667  0.635423    0.362012  0.315964   \n",
       "1  1.482383  1.551122  0.792566  0.626007    0.355280  0.400770   \n",
       "2  1.480633  1.610574  0.833552  0.627163    0.475540  0.153527   \n",
       "3  1.564980  1.516912  0.858131  0.620071    0.290549  0.367007   \n",
       "4  1.443572  1.540247  0.809158  0.617951    0.245483  0.382612   \n",
       "\n",
       "   Dystopia.Residual  \n",
       "0           2.277027  \n",
       "1           2.313707  \n",
       "2           2.322715  \n",
       "3           2.276716  \n",
       "4           2.430182  "
      ]
     },
     "execution_count": 147,
     "metadata": {},
     "output_type": "execute_result"
    }
   ],
   "source": [
    "dataset_2017.head()"
   ]
  },
  {
   "cell_type": "code",
   "execution_count": 165,
   "metadata": {},
   "outputs": [],
   "source": [
    "dataset_2018 = dataset_2018.rename(columns={\"GDP per capita\" : \"Economy\" , \"Healthy life expectancy\" : \"Health\" , \n",
    "                                            \"Freedom to make life choices\" : \"Freedom\", \n",
    "                                            \"Country or region\" : \"Country\",\n",
    "                                            \"Perceptions of corruption\" : \"Trust\"})"
   ]
  },
  {
   "cell_type": "code",
   "execution_count": 166,
   "metadata": {},
   "outputs": [
    {
     "data": {
      "text/html": [
       "<div>\n",
       "<style scoped>\n",
       "    .dataframe tbody tr th:only-of-type {\n",
       "        vertical-align: middle;\n",
       "    }\n",
       "\n",
       "    .dataframe tbody tr th {\n",
       "        vertical-align: top;\n",
       "    }\n",
       "\n",
       "    .dataframe thead th {\n",
       "        text-align: right;\n",
       "    }\n",
       "</style>\n",
       "<table border=\"1\" class=\"dataframe\">\n",
       "  <thead>\n",
       "    <tr style=\"text-align: right;\">\n",
       "      <th></th>\n",
       "      <th>Overall rank</th>\n",
       "      <th>Country</th>\n",
       "      <th>Score</th>\n",
       "      <th>Economy</th>\n",
       "      <th>Social support</th>\n",
       "      <th>Health</th>\n",
       "      <th>Freedom</th>\n",
       "      <th>Generosity</th>\n",
       "      <th>Trust</th>\n",
       "    </tr>\n",
       "  </thead>\n",
       "  <tbody>\n",
       "    <tr>\n",
       "      <th>0</th>\n",
       "      <td>1</td>\n",
       "      <td>Finland</td>\n",
       "      <td>7.632</td>\n",
       "      <td>1.305</td>\n",
       "      <td>1.592</td>\n",
       "      <td>0.874</td>\n",
       "      <td>0.681</td>\n",
       "      <td>0.202</td>\n",
       "      <td>0.393</td>\n",
       "    </tr>\n",
       "    <tr>\n",
       "      <th>1</th>\n",
       "      <td>2</td>\n",
       "      <td>Norway</td>\n",
       "      <td>7.594</td>\n",
       "      <td>1.456</td>\n",
       "      <td>1.582</td>\n",
       "      <td>0.861</td>\n",
       "      <td>0.686</td>\n",
       "      <td>0.286</td>\n",
       "      <td>0.340</td>\n",
       "    </tr>\n",
       "    <tr>\n",
       "      <th>2</th>\n",
       "      <td>3</td>\n",
       "      <td>Denmark</td>\n",
       "      <td>7.555</td>\n",
       "      <td>1.351</td>\n",
       "      <td>1.590</td>\n",
       "      <td>0.868</td>\n",
       "      <td>0.683</td>\n",
       "      <td>0.284</td>\n",
       "      <td>0.408</td>\n",
       "    </tr>\n",
       "    <tr>\n",
       "      <th>3</th>\n",
       "      <td>4</td>\n",
       "      <td>Iceland</td>\n",
       "      <td>7.495</td>\n",
       "      <td>1.343</td>\n",
       "      <td>1.644</td>\n",
       "      <td>0.914</td>\n",
       "      <td>0.677</td>\n",
       "      <td>0.353</td>\n",
       "      <td>0.138</td>\n",
       "    </tr>\n",
       "    <tr>\n",
       "      <th>4</th>\n",
       "      <td>5</td>\n",
       "      <td>Switzerland</td>\n",
       "      <td>7.487</td>\n",
       "      <td>1.420</td>\n",
       "      <td>1.549</td>\n",
       "      <td>0.927</td>\n",
       "      <td>0.660</td>\n",
       "      <td>0.256</td>\n",
       "      <td>0.357</td>\n",
       "    </tr>\n",
       "  </tbody>\n",
       "</table>\n",
       "</div>"
      ],
      "text/plain": [
       "   Overall rank      Country  Score  Economy  Social support  Health  Freedom  \\\n",
       "0             1      Finland  7.632    1.305           1.592   0.874    0.681   \n",
       "1             2       Norway  7.594    1.456           1.582   0.861    0.686   \n",
       "2             3      Denmark  7.555    1.351           1.590   0.868    0.683   \n",
       "3             4      Iceland  7.495    1.343           1.644   0.914    0.677   \n",
       "4             5  Switzerland  7.487    1.420           1.549   0.927    0.660   \n",
       "\n",
       "   Generosity  Trust  \n",
       "0       0.202  0.393  \n",
       "1       0.286  0.340  \n",
       "2       0.284  0.408  \n",
       "3       0.353  0.138  \n",
       "4       0.256  0.357  "
      ]
     },
     "execution_count": 166,
     "metadata": {},
     "output_type": "execute_result"
    }
   ],
   "source": [
    "dataset_2018.head()"
   ]
  },
  {
   "cell_type": "code",
   "execution_count": 167,
   "metadata": {},
   "outputs": [],
   "source": [
    "dataset_2019 = dataset_2019.rename(columns={\"GDP per capita\" : \"Economy\" , \"Healthy life expectancy\" : \"Health\" , \n",
    "                                            \"Freedom to make life choices\" : \"Freedom\", \n",
    "                                            \"Country or region\" : \"Country\",\n",
    "                                            \"Perceptions of corruption\" : \"Trust\"})"
   ]
  },
  {
   "cell_type": "code",
   "execution_count": 168,
   "metadata": {},
   "outputs": [
    {
     "data": {
      "text/html": [
       "<div>\n",
       "<style scoped>\n",
       "    .dataframe tbody tr th:only-of-type {\n",
       "        vertical-align: middle;\n",
       "    }\n",
       "\n",
       "    .dataframe tbody tr th {\n",
       "        vertical-align: top;\n",
       "    }\n",
       "\n",
       "    .dataframe thead th {\n",
       "        text-align: right;\n",
       "    }\n",
       "</style>\n",
       "<table border=\"1\" class=\"dataframe\">\n",
       "  <thead>\n",
       "    <tr style=\"text-align: right;\">\n",
       "      <th></th>\n",
       "      <th>Overall rank</th>\n",
       "      <th>Country</th>\n",
       "      <th>Score</th>\n",
       "      <th>Economy</th>\n",
       "      <th>Social support</th>\n",
       "      <th>Health</th>\n",
       "      <th>Freedom</th>\n",
       "      <th>Generosity</th>\n",
       "      <th>Trust</th>\n",
       "    </tr>\n",
       "  </thead>\n",
       "  <tbody>\n",
       "    <tr>\n",
       "      <th>0</th>\n",
       "      <td>1</td>\n",
       "      <td>Finland</td>\n",
       "      <td>7.769</td>\n",
       "      <td>1.340</td>\n",
       "      <td>1.587</td>\n",
       "      <td>0.986</td>\n",
       "      <td>0.596</td>\n",
       "      <td>0.153</td>\n",
       "      <td>0.393</td>\n",
       "    </tr>\n",
       "    <tr>\n",
       "      <th>1</th>\n",
       "      <td>2</td>\n",
       "      <td>Denmark</td>\n",
       "      <td>7.600</td>\n",
       "      <td>1.383</td>\n",
       "      <td>1.573</td>\n",
       "      <td>0.996</td>\n",
       "      <td>0.592</td>\n",
       "      <td>0.252</td>\n",
       "      <td>0.410</td>\n",
       "    </tr>\n",
       "    <tr>\n",
       "      <th>2</th>\n",
       "      <td>3</td>\n",
       "      <td>Norway</td>\n",
       "      <td>7.554</td>\n",
       "      <td>1.488</td>\n",
       "      <td>1.582</td>\n",
       "      <td>1.028</td>\n",
       "      <td>0.603</td>\n",
       "      <td>0.271</td>\n",
       "      <td>0.341</td>\n",
       "    </tr>\n",
       "    <tr>\n",
       "      <th>3</th>\n",
       "      <td>4</td>\n",
       "      <td>Iceland</td>\n",
       "      <td>7.494</td>\n",
       "      <td>1.380</td>\n",
       "      <td>1.624</td>\n",
       "      <td>1.026</td>\n",
       "      <td>0.591</td>\n",
       "      <td>0.354</td>\n",
       "      <td>0.118</td>\n",
       "    </tr>\n",
       "    <tr>\n",
       "      <th>4</th>\n",
       "      <td>5</td>\n",
       "      <td>Netherlands</td>\n",
       "      <td>7.488</td>\n",
       "      <td>1.396</td>\n",
       "      <td>1.522</td>\n",
       "      <td>0.999</td>\n",
       "      <td>0.557</td>\n",
       "      <td>0.322</td>\n",
       "      <td>0.298</td>\n",
       "    </tr>\n",
       "  </tbody>\n",
       "</table>\n",
       "</div>"
      ],
      "text/plain": [
       "   Overall rank      Country  Score  Economy  Social support  Health  Freedom  \\\n",
       "0             1      Finland  7.769    1.340           1.587   0.986    0.596   \n",
       "1             2      Denmark  7.600    1.383           1.573   0.996    0.592   \n",
       "2             3       Norway  7.554    1.488           1.582   1.028    0.603   \n",
       "3             4      Iceland  7.494    1.380           1.624   1.026    0.591   \n",
       "4             5  Netherlands  7.488    1.396           1.522   0.999    0.557   \n",
       "\n",
       "   Generosity  Trust  \n",
       "0       0.153  0.393  \n",
       "1       0.252  0.410  \n",
       "2       0.271  0.341  \n",
       "3       0.354  0.118  \n",
       "4       0.322  0.298  "
      ]
     },
     "execution_count": 168,
     "metadata": {},
     "output_type": "execute_result"
    }
   ],
   "source": [
    "dataset_2019.head()"
   ]
  },
  {
   "cell_type": "code",
   "execution_count": 160,
   "metadata": {},
   "outputs": [
    {
     "name": "stdout",
     "output_type": "stream",
     "text": [
      "<class 'pandas.core.frame.DataFrame'>\n",
      "RangeIndex: 158 entries, 0 to 157\n",
      "Data columns (total 16 columns):\n",
      " #   Column             Non-Null Count  Dtype  \n",
      "---  ------             --------------  -----  \n",
      " 0   Country            158 non-null    object \n",
      " 1   Region             158 non-null    object \n",
      " 2   Happiness Rank     158 non-null    int64  \n",
      " 3   Happiness Score    158 non-null    float64\n",
      " 4   Standard Error     158 non-null    float64\n",
      " 5   Economy            158 non-null    float64\n",
      " 6   Family             158 non-null    float64\n",
      " 7   Health             158 non-null    float64\n",
      " 8   Freedom            158 non-null    float64\n",
      " 9   Trust              158 non-null    float64\n",
      " 10  Generosity         158 non-null    float64\n",
      " 11  Dystopia Residual  158 non-null    float64\n",
      " 12  Country_codes      158 non-null    object \n",
      " 13  Continent_code     158 non-null    object \n",
      " 14  longitude          154 non-null    float64\n",
      " 15  latitude           154 non-null    float64\n",
      "dtypes: float64(11), int64(1), object(4)\n",
      "memory usage: 19.9+ KB\n"
     ]
    }
   ],
   "source": [
    "dataset_2015.info()"
   ]
  },
  {
   "cell_type": "code",
   "execution_count": 161,
   "metadata": {},
   "outputs": [
    {
     "name": "stdout",
     "output_type": "stream",
     "text": [
      "<class 'pandas.core.frame.DataFrame'>\n",
      "RangeIndex: 157 entries, 0 to 156\n",
      "Data columns (total 13 columns):\n",
      " #   Column                     Non-Null Count  Dtype  \n",
      "---  ------                     --------------  -----  \n",
      " 0   Country                    157 non-null    object \n",
      " 1   Region                     157 non-null    object \n",
      " 2   Happiness Rank             157 non-null    int64  \n",
      " 3   Happiness Score            157 non-null    float64\n",
      " 4   Lower Confidence Interval  157 non-null    float64\n",
      " 5   Upper Confidence Interval  157 non-null    float64\n",
      " 6   Economy                    157 non-null    float64\n",
      " 7   Family                     157 non-null    float64\n",
      " 8   Health                     157 non-null    float64\n",
      " 9   Freedom                    157 non-null    float64\n",
      " 10  Trust                      157 non-null    float64\n",
      " 11  Generosity                 157 non-null    float64\n",
      " 12  Dystopia Residual          157 non-null    float64\n",
      "dtypes: float64(10), int64(1), object(2)\n",
      "memory usage: 16.1+ KB\n"
     ]
    }
   ],
   "source": [
    "dataset_2016.info()"
   ]
  },
  {
   "cell_type": "code",
   "execution_count": 162,
   "metadata": {},
   "outputs": [
    {
     "name": "stdout",
     "output_type": "stream",
     "text": [
      "<class 'pandas.core.frame.DataFrame'>\n",
      "RangeIndex: 155 entries, 0 to 154\n",
      "Data columns (total 12 columns):\n",
      " #   Column             Non-Null Count  Dtype  \n",
      "---  ------             --------------  -----  \n",
      " 0   Country            155 non-null    object \n",
      " 1   Happiness.Rank     155 non-null    int64  \n",
      " 2   Happiness.Score    155 non-null    float64\n",
      " 3   Whisker.high       155 non-null    float64\n",
      " 4   Whisker.low        155 non-null    float64\n",
      " 5   Economy            155 non-null    float64\n",
      " 6   Family             155 non-null    float64\n",
      " 7   Health             155 non-null    float64\n",
      " 8   Freedom            155 non-null    float64\n",
      " 9   Generosity         155 non-null    float64\n",
      " 10  Trust              155 non-null    float64\n",
      " 11  Dystopia.Residual  155 non-null    float64\n",
      "dtypes: float64(10), int64(1), object(1)\n",
      "memory usage: 14.7+ KB\n"
     ]
    }
   ],
   "source": [
    "dataset_2017.info()"
   ]
  },
  {
   "cell_type": "code",
   "execution_count": 163,
   "metadata": {},
   "outputs": [
    {
     "name": "stdout",
     "output_type": "stream",
     "text": [
      "<class 'pandas.core.frame.DataFrame'>\n",
      "RangeIndex: 156 entries, 0 to 155\n",
      "Data columns (total 9 columns):\n",
      " #   Column             Non-Null Count  Dtype  \n",
      "---  ------             --------------  -----  \n",
      " 0   Overall rank       156 non-null    int64  \n",
      " 1   Country or region  156 non-null    object \n",
      " 2   Score              156 non-null    float64\n",
      " 3   Economy            156 non-null    float64\n",
      " 4   Social support     156 non-null    float64\n",
      " 5   Health             156 non-null    float64\n",
      " 6   Freedom            156 non-null    float64\n",
      " 7   Generosity         156 non-null    float64\n",
      " 8   Trust              155 non-null    float64\n",
      "dtypes: float64(7), int64(1), object(1)\n",
      "memory usage: 11.1+ KB\n"
     ]
    }
   ],
   "source": [
    "dataset_2018.info()"
   ]
  },
  {
   "cell_type": "code",
   "execution_count": 164,
   "metadata": {},
   "outputs": [
    {
     "name": "stdout",
     "output_type": "stream",
     "text": [
      "<class 'pandas.core.frame.DataFrame'>\n",
      "RangeIndex: 156 entries, 0 to 155\n",
      "Data columns (total 9 columns):\n",
      " #   Column             Non-Null Count  Dtype  \n",
      "---  ------             --------------  -----  \n",
      " 0   Overall rank       156 non-null    int64  \n",
      " 1   Country or region  156 non-null    object \n",
      " 2   Score              156 non-null    float64\n",
      " 3   Economy            156 non-null    float64\n",
      " 4   Social support     156 non-null    float64\n",
      " 5   Health             156 non-null    float64\n",
      " 6   Freedom            156 non-null    float64\n",
      " 7   Generosity         156 non-null    float64\n",
      " 8   Trust              156 non-null    float64\n",
      "dtypes: float64(7), int64(1), object(1)\n",
      "memory usage: 11.1+ KB\n"
     ]
    }
   ],
   "source": [
    "dataset_2019.info()"
   ]
  },
  {
   "cell_type": "markdown",
   "metadata": {},
   "source": [
    "We can do a basic understanding of the features. \n",
    "\n",
    "Variables/ Features that was used in the DataSets: \n",
    "* **Country, Region** : The country of the datasets\n",
    "* **Score** : Happiness score of a country \n",
    "* **Rank** : Happiness Rank of a country \n",
    "* **Econmy/GDP** : the quality of life based on how much the earn \n",
    "* **Family**:quality of family \n",
    "* **Health** : healthcare availability and average life expentancy in the country \n",
    "* **Freedom** : how much a person can conduct based on their free will \n",
    "* **Dystopia Residual ( 2015-2017)** : Dystopia is an imaginary country that has the world’s least-happy people. It is a benchmark against which all countries can be favorably compared (no country performs more poorly than Dystopia) in terms of each of the six key variables, thus allowing each sub-bar to be of positive (or zero, in six instances) width. \n",
    "\n"
   ]
  },
  {
   "cell_type": "code",
   "execution_count": 169,
   "metadata": {},
   "outputs": [],
   "source": [
    "import matplotlib.pyplot as plt\n",
    "\n",
    "# I would need a function to help me find the ladtitude and latitiude of the country \n",
    "# https://towardsdatascience.com/using-python-to-create-a-world-map-from-a-list-of-country-names-cd7480d03b10\n",
    "# the above is the good way of handle the problem that I am having \n",
    "\n",
    "from pycountry_convert import country_alpha2_to_continent_code, country_name_to_country_alpha2\n",
    "\n",
    "def get_continent(col):\n",
    "    try:\n",
    "        cn_a2_code =  country_name_to_country_alpha2(col)\n",
    "    except:\n",
    "        cn_a2_code = 'Unknown' \n",
    "    try:\n",
    "        cn_continent = country_alpha2_to_continent_code(cn_a2_code)\n",
    "    except:\n",
    "        cn_continent = 'Unknown' \n",
    "    return (cn_a2_code, cn_continent)\n"
   ]
  },
  {
   "cell_type": "code",
   "execution_count": 170,
   "metadata": {},
   "outputs": [],
   "source": [
    "# importing the country and continent letter code\n",
    "codes = []\n",
    "continents = []\n",
    "codes_and_continent = []\n",
    "\n",
    "def conversion(countries):\n",
    "    for country in countries:\n",
    "        code , continent = get_continent(country)\n",
    "        codes.append(code)\n",
    "        continents.append(continent)\n",
    "        codes_and_continent.append((code,continent))\n",
    "    return codes_and_continent"
   ]
  },
  {
   "cell_type": "code",
   "execution_count": 171,
   "metadata": {},
   "outputs": [],
   "source": [
    "c_and_c = conversion(dataset_2015['Country'])"
   ]
  },
  {
   "cell_type": "code",
   "execution_count": 172,
   "metadata": {},
   "outputs": [],
   "source": [
    "dataset_2015['Country_codes'] = pd.DataFrame(codes)\n",
    "dataset_2015['Continent_code']= pd.DataFrame(continents)"
   ]
  },
  {
   "cell_type": "code",
   "execution_count": 173,
   "metadata": {},
   "outputs": [
    {
     "data": {
      "text/html": [
       "<div>\n",
       "<style scoped>\n",
       "    .dataframe tbody tr th:only-of-type {\n",
       "        vertical-align: middle;\n",
       "    }\n",
       "\n",
       "    .dataframe tbody tr th {\n",
       "        vertical-align: top;\n",
       "    }\n",
       "\n",
       "    .dataframe thead th {\n",
       "        text-align: right;\n",
       "    }\n",
       "</style>\n",
       "<table border=\"1\" class=\"dataframe\">\n",
       "  <thead>\n",
       "    <tr style=\"text-align: right;\">\n",
       "      <th></th>\n",
       "      <th>Country</th>\n",
       "      <th>Region</th>\n",
       "      <th>Happiness Rank</th>\n",
       "      <th>Happiness Score</th>\n",
       "      <th>Standard Error</th>\n",
       "      <th>Economy</th>\n",
       "      <th>Family</th>\n",
       "      <th>Health</th>\n",
       "      <th>Freedom</th>\n",
       "      <th>Trust</th>\n",
       "      <th>Generosity</th>\n",
       "      <th>Dystopia Residual</th>\n",
       "      <th>Country_codes</th>\n",
       "      <th>Continent_code</th>\n",
       "      <th>longitude</th>\n",
       "      <th>latitude</th>\n",
       "    </tr>\n",
       "  </thead>\n",
       "  <tbody>\n",
       "    <tr>\n",
       "      <th>0</th>\n",
       "      <td>Switzerland</td>\n",
       "      <td>Western Europe</td>\n",
       "      <td>1</td>\n",
       "      <td>7.587</td>\n",
       "      <td>0.03411</td>\n",
       "      <td>1.39651</td>\n",
       "      <td>1.34951</td>\n",
       "      <td>0.94143</td>\n",
       "      <td>0.66557</td>\n",
       "      <td>0.41978</td>\n",
       "      <td>0.29678</td>\n",
       "      <td>2.51738</td>\n",
       "      <td>CH</td>\n",
       "      <td>EU</td>\n",
       "      <td>8.231974</td>\n",
       "      <td>46.798562</td>\n",
       "    </tr>\n",
       "    <tr>\n",
       "      <th>1</th>\n",
       "      <td>Iceland</td>\n",
       "      <td>Western Europe</td>\n",
       "      <td>2</td>\n",
       "      <td>7.561</td>\n",
       "      <td>0.04884</td>\n",
       "      <td>1.30232</td>\n",
       "      <td>1.40223</td>\n",
       "      <td>0.94784</td>\n",
       "      <td>0.62877</td>\n",
       "      <td>0.14145</td>\n",
       "      <td>0.43630</td>\n",
       "      <td>2.70201</td>\n",
       "      <td>IS</td>\n",
       "      <td>EU</td>\n",
       "      <td>-18.105901</td>\n",
       "      <td>64.984182</td>\n",
       "    </tr>\n",
       "    <tr>\n",
       "      <th>2</th>\n",
       "      <td>Denmark</td>\n",
       "      <td>Western Europe</td>\n",
       "      <td>3</td>\n",
       "      <td>7.527</td>\n",
       "      <td>0.03328</td>\n",
       "      <td>1.32548</td>\n",
       "      <td>1.36058</td>\n",
       "      <td>0.87464</td>\n",
       "      <td>0.64938</td>\n",
       "      <td>0.48357</td>\n",
       "      <td>0.34139</td>\n",
       "      <td>2.49204</td>\n",
       "      <td>DK</td>\n",
       "      <td>EU</td>\n",
       "      <td>10.333328</td>\n",
       "      <td>55.670249</td>\n",
       "    </tr>\n",
       "    <tr>\n",
       "      <th>3</th>\n",
       "      <td>Norway</td>\n",
       "      <td>Western Europe</td>\n",
       "      <td>4</td>\n",
       "      <td>7.522</td>\n",
       "      <td>0.03880</td>\n",
       "      <td>1.45900</td>\n",
       "      <td>1.33095</td>\n",
       "      <td>0.88521</td>\n",
       "      <td>0.66973</td>\n",
       "      <td>0.36503</td>\n",
       "      <td>0.34699</td>\n",
       "      <td>2.46531</td>\n",
       "      <td>NO</td>\n",
       "      <td>EU</td>\n",
       "      <td>9.099972</td>\n",
       "      <td>60.500021</td>\n",
       "    </tr>\n",
       "    <tr>\n",
       "      <th>4</th>\n",
       "      <td>Canada</td>\n",
       "      <td>North America</td>\n",
       "      <td>5</td>\n",
       "      <td>7.427</td>\n",
       "      <td>0.03553</td>\n",
       "      <td>1.32629</td>\n",
       "      <td>1.32261</td>\n",
       "      <td>0.90563</td>\n",
       "      <td>0.63297</td>\n",
       "      <td>0.32957</td>\n",
       "      <td>0.45811</td>\n",
       "      <td>2.45176</td>\n",
       "      <td>CA</td>\n",
       "      <td>NA</td>\n",
       "      <td>-107.991707</td>\n",
       "      <td>61.066692</td>\n",
       "    </tr>\n",
       "  </tbody>\n",
       "</table>\n",
       "</div>"
      ],
      "text/plain": [
       "       Country          Region  Happiness Rank  Happiness Score  \\\n",
       "0  Switzerland  Western Europe               1            7.587   \n",
       "1      Iceland  Western Europe               2            7.561   \n",
       "2      Denmark  Western Europe               3            7.527   \n",
       "3       Norway  Western Europe               4            7.522   \n",
       "4       Canada   North America               5            7.427   \n",
       "\n",
       "   Standard Error  Economy   Family   Health  Freedom    Trust  Generosity  \\\n",
       "0         0.03411  1.39651  1.34951  0.94143  0.66557  0.41978     0.29678   \n",
       "1         0.04884  1.30232  1.40223  0.94784  0.62877  0.14145     0.43630   \n",
       "2         0.03328  1.32548  1.36058  0.87464  0.64938  0.48357     0.34139   \n",
       "3         0.03880  1.45900  1.33095  0.88521  0.66973  0.36503     0.34699   \n",
       "4         0.03553  1.32629  1.32261  0.90563  0.63297  0.32957     0.45811   \n",
       "\n",
       "   Dystopia Residual Country_codes Continent_code   longitude   latitude  \n",
       "0            2.51738            CH             EU    8.231974  46.798562  \n",
       "1            2.70201            IS             EU  -18.105901  64.984182  \n",
       "2            2.49204            DK             EU   10.333328  55.670249  \n",
       "3            2.46531            NO             EU    9.099972  60.500021  \n",
       "4            2.45176            CA             NA -107.991707  61.066692  "
      ]
     },
     "execution_count": 173,
     "metadata": {},
     "output_type": "execute_result"
    }
   ],
   "source": [
    "dataset_2015.head()"
   ]
  },
  {
   "cell_type": "code",
   "execution_count": 174,
   "metadata": {},
   "outputs": [],
   "source": [
    "# getting the longtitude and latitude from the codes (snippet from the website)\n",
    "\n",
    "from geopy.geocoders import Nominatim\n",
    "\n",
    "geolocator = Nominatim(user_agent=\"project-1\")\n",
    "def geolocate(country):\n",
    "    try:\n",
    "        # Geolocate the center of the country\n",
    "        loc = geolocator.geocode(country)\n",
    "        # And return latitude and longitude\n",
    "        return (loc.latitude, loc.longitude)\n",
    "    except:\n",
    "        # Return missing value\n",
    "        return (np.nan, np.nan)"
   ]
  },
  {
   "cell_type": "code",
   "execution_count": 175,
   "metadata": {},
   "outputs": [],
   "source": [
    "longitudes = []\n",
    "latitudes = []\n",
    "coordinates= np.array([],[])\n",
    "\n",
    "def get_location(country_codes):\n",
    "    for c_code in country_codes: \n",
    "        lat,long = geolocate(c_code)\n",
    "        longitudes.append(long)\n",
    "        latitudes.append(lat)\n",
    "        np.append(long,lat)\n",
    "    return coordinates\n"
   ]
  },
  {
   "cell_type": "code",
   "execution_count": 176,
   "metadata": {},
   "outputs": [],
   "source": [
    "position=get_location(dataset_2015['Country_codes'])  "
   ]
  },
  {
   "cell_type": "code",
   "execution_count": 177,
   "metadata": {},
   "outputs": [],
   "source": [
    "dataset_2015['longitude']= pd.DataFrame(longitudes)\n",
    "dataset_2015['latitude']= pd.DataFrame(latitudes)"
   ]
  },
  {
   "cell_type": "code",
   "execution_count": 178,
   "metadata": {},
   "outputs": [
    {
     "data": {
      "text/html": [
       "<div>\n",
       "<style scoped>\n",
       "    .dataframe tbody tr th:only-of-type {\n",
       "        vertical-align: middle;\n",
       "    }\n",
       "\n",
       "    .dataframe tbody tr th {\n",
       "        vertical-align: top;\n",
       "    }\n",
       "\n",
       "    .dataframe thead th {\n",
       "        text-align: right;\n",
       "    }\n",
       "</style>\n",
       "<table border=\"1\" class=\"dataframe\">\n",
       "  <thead>\n",
       "    <tr style=\"text-align: right;\">\n",
       "      <th></th>\n",
       "      <th>Country</th>\n",
       "      <th>Region</th>\n",
       "      <th>Happiness Rank</th>\n",
       "      <th>Happiness Score</th>\n",
       "      <th>Standard Error</th>\n",
       "      <th>Economy</th>\n",
       "      <th>Family</th>\n",
       "      <th>Health</th>\n",
       "      <th>Freedom</th>\n",
       "      <th>Trust</th>\n",
       "      <th>Generosity</th>\n",
       "      <th>Dystopia Residual</th>\n",
       "      <th>Country_codes</th>\n",
       "      <th>Continent_code</th>\n",
       "      <th>longitude</th>\n",
       "      <th>latitude</th>\n",
       "    </tr>\n",
       "  </thead>\n",
       "  <tbody>\n",
       "    <tr>\n",
       "      <th>0</th>\n",
       "      <td>Switzerland</td>\n",
       "      <td>Western Europe</td>\n",
       "      <td>1</td>\n",
       "      <td>7.587</td>\n",
       "      <td>0.03411</td>\n",
       "      <td>1.39651</td>\n",
       "      <td>1.34951</td>\n",
       "      <td>0.94143</td>\n",
       "      <td>0.66557</td>\n",
       "      <td>0.41978</td>\n",
       "      <td>0.29678</td>\n",
       "      <td>2.51738</td>\n",
       "      <td>CH</td>\n",
       "      <td>EU</td>\n",
       "      <td>8.231974</td>\n",
       "      <td>46.798562</td>\n",
       "    </tr>\n",
       "    <tr>\n",
       "      <th>1</th>\n",
       "      <td>Iceland</td>\n",
       "      <td>Western Europe</td>\n",
       "      <td>2</td>\n",
       "      <td>7.561</td>\n",
       "      <td>0.04884</td>\n",
       "      <td>1.30232</td>\n",
       "      <td>1.40223</td>\n",
       "      <td>0.94784</td>\n",
       "      <td>0.62877</td>\n",
       "      <td>0.14145</td>\n",
       "      <td>0.43630</td>\n",
       "      <td>2.70201</td>\n",
       "      <td>IS</td>\n",
       "      <td>EU</td>\n",
       "      <td>-18.105901</td>\n",
       "      <td>64.984182</td>\n",
       "    </tr>\n",
       "    <tr>\n",
       "      <th>2</th>\n",
       "      <td>Denmark</td>\n",
       "      <td>Western Europe</td>\n",
       "      <td>3</td>\n",
       "      <td>7.527</td>\n",
       "      <td>0.03328</td>\n",
       "      <td>1.32548</td>\n",
       "      <td>1.36058</td>\n",
       "      <td>0.87464</td>\n",
       "      <td>0.64938</td>\n",
       "      <td>0.48357</td>\n",
       "      <td>0.34139</td>\n",
       "      <td>2.49204</td>\n",
       "      <td>DK</td>\n",
       "      <td>EU</td>\n",
       "      <td>10.333328</td>\n",
       "      <td>55.670249</td>\n",
       "    </tr>\n",
       "    <tr>\n",
       "      <th>3</th>\n",
       "      <td>Norway</td>\n",
       "      <td>Western Europe</td>\n",
       "      <td>4</td>\n",
       "      <td>7.522</td>\n",
       "      <td>0.03880</td>\n",
       "      <td>1.45900</td>\n",
       "      <td>1.33095</td>\n",
       "      <td>0.88521</td>\n",
       "      <td>0.66973</td>\n",
       "      <td>0.36503</td>\n",
       "      <td>0.34699</td>\n",
       "      <td>2.46531</td>\n",
       "      <td>NO</td>\n",
       "      <td>EU</td>\n",
       "      <td>9.099972</td>\n",
       "      <td>60.500021</td>\n",
       "    </tr>\n",
       "    <tr>\n",
       "      <th>4</th>\n",
       "      <td>Canada</td>\n",
       "      <td>North America</td>\n",
       "      <td>5</td>\n",
       "      <td>7.427</td>\n",
       "      <td>0.03553</td>\n",
       "      <td>1.32629</td>\n",
       "      <td>1.32261</td>\n",
       "      <td>0.90563</td>\n",
       "      <td>0.63297</td>\n",
       "      <td>0.32957</td>\n",
       "      <td>0.45811</td>\n",
       "      <td>2.45176</td>\n",
       "      <td>CA</td>\n",
       "      <td>NA</td>\n",
       "      <td>-107.991707</td>\n",
       "      <td>61.066692</td>\n",
       "    </tr>\n",
       "  </tbody>\n",
       "</table>\n",
       "</div>"
      ],
      "text/plain": [
       "       Country          Region  Happiness Rank  Happiness Score  \\\n",
       "0  Switzerland  Western Europe               1            7.587   \n",
       "1      Iceland  Western Europe               2            7.561   \n",
       "2      Denmark  Western Europe               3            7.527   \n",
       "3       Norway  Western Europe               4            7.522   \n",
       "4       Canada   North America               5            7.427   \n",
       "\n",
       "   Standard Error  Economy   Family   Health  Freedom    Trust  Generosity  \\\n",
       "0         0.03411  1.39651  1.34951  0.94143  0.66557  0.41978     0.29678   \n",
       "1         0.04884  1.30232  1.40223  0.94784  0.62877  0.14145     0.43630   \n",
       "2         0.03328  1.32548  1.36058  0.87464  0.64938  0.48357     0.34139   \n",
       "3         0.03880  1.45900  1.33095  0.88521  0.66973  0.36503     0.34699   \n",
       "4         0.03553  1.32629  1.32261  0.90563  0.63297  0.32957     0.45811   \n",
       "\n",
       "   Dystopia Residual Country_codes Continent_code   longitude   latitude  \n",
       "0            2.51738            CH             EU    8.231974  46.798562  \n",
       "1            2.70201            IS             EU  -18.105901  64.984182  \n",
       "2            2.49204            DK             EU   10.333328  55.670249  \n",
       "3            2.46531            NO             EU    9.099972  60.500021  \n",
       "4            2.45176            CA             NA -107.991707  61.066692  "
      ]
     },
     "execution_count": 178,
     "metadata": {},
     "output_type": "execute_result"
    }
   ],
   "source": [
    "dataset_2015.head()"
   ]
  },
  {
   "cell_type": "markdown",
   "metadata": {},
   "source": [
    "### Data Visualization"
   ]
  },
  {
   "cell_type": "code",
   "execution_count": 179,
   "metadata": {},
   "outputs": [
    {
     "data": {
      "text/html": [
       "        <script type=\"text/javascript\">\n",
       "        window.PlotlyConfig = {MathJaxConfig: 'local'};\n",
       "        if (window.MathJax) {MathJax.Hub.Config({SVG: {font: \"STIX-Web\"}});}\n",
       "        if (typeof require !== 'undefined') {\n",
       "        require.undef(\"plotly\");\n",
       "        requirejs.config({\n",
       "            paths: {\n",
       "                'plotly': ['https://cdn.plot.ly/plotly-latest.min']\n",
       "            }\n",
       "        });\n",
       "        require(['plotly'], function(Plotly) {\n",
       "            window._Plotly = Plotly;\n",
       "        });\n",
       "        }\n",
       "        </script>\n",
       "        "
      ]
     },
     "metadata": {},
     "output_type": "display_data"
    }
   ],
   "source": [
    "# plotly will handle the country for us\n",
    "import plotly.graph_objs as go \n",
    "from plotly.offline import init_notebook_mode,iplot,plot\n",
    "\n",
    "init_notebook_mode(connected=True)"
   ]
  },
  {
   "cell_type": "code",
   "execution_count": 180,
   "metadata": {},
   "outputs": [],
   "source": [
    "data = dict(\n",
    "        type = 'choropleth',\n",
    "        colorscale = 'Viridis',\n",
    "        locations = dataset_2015['Country'],\n",
    "        locationmode = \"country names\",\n",
    "        z = dataset_2015['Happiness Score'],\n",
    "        colorbar = {'title' : 'Happiness Score'},\n",
    "      )"
   ]
  },
  {
   "cell_type": "code",
   "execution_count": 181,
   "metadata": {},
   "outputs": [],
   "source": [
    "layout = dict(title = '2015 Happiness Score',\n",
    "              geo = dict(projection = {'type':'equirectangular'})\n",
    "             )"
   ]
  },
  {
   "cell_type": "code",
   "execution_count": 182,
   "metadata": {},
   "outputs": [
    {
     "data": {
      "application/vnd.plotly.v1+json": {
       "config": {
        "linkText": "Export to plot.ly",
        "plotlyServerURL": "https://plot.ly",
        "showLink": false
       },
       "data": [
        {
         "colorbar": {
          "title": {
           "text": "Happiness Score"
          }
         },
         "colorscale": [
          [
           0,
           "#440154"
          ],
          [
           0.1111111111111111,
           "#482878"
          ],
          [
           0.2222222222222222,
           "#3e4989"
          ],
          [
           0.3333333333333333,
           "#31688e"
          ],
          [
           0.4444444444444444,
           "#26828e"
          ],
          [
           0.5555555555555556,
           "#1f9e89"
          ],
          [
           0.6666666666666666,
           "#35b779"
          ],
          [
           0.7777777777777778,
           "#6ece58"
          ],
          [
           0.8888888888888888,
           "#b5de2b"
          ],
          [
           1,
           "#fde725"
          ]
         ],
         "locationmode": "country names",
         "locations": [
          "Switzerland",
          "Iceland",
          "Denmark",
          "Norway",
          "Canada",
          "Finland",
          "Netherlands",
          "Sweden",
          "New Zealand",
          "Australia",
          "Israel",
          "Costa Rica",
          "Austria",
          "Mexico",
          "United States",
          "Brazil",
          "Luxembourg",
          "Ireland",
          "Belgium",
          "United Arab Emirates",
          "United Kingdom",
          "Oman",
          "Venezuela",
          "Singapore",
          "Panama",
          "Germany",
          "Chile",
          "Qatar",
          "France",
          "Argentina",
          "Czech Republic",
          "Uruguay",
          "Colombia",
          "Thailand",
          "Saudi Arabia",
          "Spain",
          "Malta",
          "Taiwan",
          "Kuwait",
          "Suriname",
          "Trinidad and Tobago",
          "El Salvador",
          "Guatemala",
          "Uzbekistan",
          "Slovakia",
          "Japan",
          "South Korea",
          "Ecuador",
          "Bahrain",
          "Italy",
          "Bolivia",
          "Moldova",
          "Paraguay",
          "Kazakhstan",
          "Slovenia",
          "Lithuania",
          "Nicaragua",
          "Peru",
          "Belarus",
          "Poland",
          "Malaysia",
          "Croatia",
          "Libya",
          "Russia",
          "Jamaica",
          "North Cyprus",
          "Cyprus",
          "Algeria",
          "Kosovo",
          "Turkmenistan",
          "Mauritius",
          "Hong Kong",
          "Estonia",
          "Indonesia",
          "Vietnam",
          "Turkey",
          "Kyrgyzstan",
          "Nigeria",
          "Bhutan",
          "Azerbaijan",
          "Pakistan",
          "Jordan",
          "Montenegro",
          "China",
          "Zambia",
          "Romania",
          "Serbia",
          "Portugal",
          "Latvia",
          "Philippines",
          "Somaliland region",
          "Morocco",
          "Macedonia",
          "Mozambique",
          "Albania",
          "Bosnia and Herzegovina",
          "Lesotho",
          "Dominican Republic",
          "Laos",
          "Mongolia",
          "Swaziland",
          "Greece",
          "Lebanon",
          "Hungary",
          "Honduras",
          "Tajikistan",
          "Tunisia",
          "Palestinian Territories",
          "Bangladesh",
          "Iran",
          "Ukraine",
          "Iraq",
          "South Africa",
          "Ghana",
          "Zimbabwe",
          "Liberia",
          "India",
          "Sudan",
          "Haiti",
          "Congo (Kinshasa)",
          "Nepal",
          "Ethiopia",
          "Sierra Leone",
          "Mauritania",
          "Kenya",
          "Djibouti",
          "Armenia",
          "Botswana",
          "Myanmar",
          "Georgia",
          "Malawi",
          "Sri Lanka",
          "Cameroon",
          "Bulgaria",
          "Egypt",
          "Yemen",
          "Angola",
          "Mali",
          "Congo (Brazzaville)",
          "Comoros",
          "Uganda",
          "Senegal",
          "Gabon",
          "Niger",
          "Cambodia",
          "Tanzania",
          "Madagascar",
          "Central African Republic",
          "Chad",
          "Guinea",
          "Ivory Coast",
          "Burkina Faso",
          "Afghanistan",
          "Rwanda",
          "Benin",
          "Syria",
          "Burundi",
          "Togo"
         ],
         "type": "choropleth",
         "z": [
          7.587000000000001,
          7.561,
          7.527,
          7.522,
          7.4270000000000005,
          7.406000000000001,
          7.377999999999999,
          7.364,
          7.2860000000000005,
          7.284,
          7.278,
          7.226,
          7.2,
          7.187,
          7.119,
          6.983,
          6.946000000000001,
          6.94,
          6.937,
          6.901,
          6.867000000000001,
          6.853,
          6.81,
          6.797999999999999,
          6.7860000000000005,
          6.75,
          6.67,
          6.611000000000001,
          6.575,
          6.574,
          6.505,
          6.485,
          6.477,
          6.455,
          6.4110000000000005,
          6.329,
          6.3020000000000005,
          6.297999999999999,
          6.295,
          6.269,
          6.167999999999999,
          6.13,
          6.122999999999999,
          6.002999999999999,
          5.995,
          5.987,
          5.984,
          5.975,
          5.96,
          5.9479999999999995,
          5.89,
          5.888999999999999,
          5.877999999999999,
          5.855,
          5.848,
          5.832999999999999,
          5.827999999999999,
          5.824,
          5.813,
          5.791,
          5.77,
          5.7589999999999995,
          5.754,
          5.716,
          5.709,
          5.695,
          5.689,
          5.605,
          5.5889999999999995,
          5.547999999999999,
          5.477,
          5.474,
          5.428999999999999,
          5.399,
          5.36,
          5.332000000000001,
          5.2860000000000005,
          5.268,
          5.252999999999999,
          5.212000000000001,
          5.194,
          5.192,
          5.192,
          5.14,
          5.129,
          5.124,
          5.122999999999999,
          5.102,
          5.098,
          5.073,
          5.0569999999999995,
          5.013,
          5.007,
          4.971,
          4.959,
          4.949,
          4.898,
          4.885,
          4.876,
          4.874,
          4.867,
          4.857,
          4.8389999999999995,
          4.8,
          4.788,
          4.7860000000000005,
          4.739,
          4.715,
          4.694,
          4.686,
          4.681,
          4.677,
          4.6419999999999995,
          4.633,
          4.61,
          4.571000000000001,
          4.565,
          4.55,
          4.518,
          4.5169999999999995,
          4.513999999999999,
          4.512,
          4.507,
          4.436,
          4.419,
          4.369,
          4.35,
          4.332,
          4.3069999999999995,
          4.297,
          4.292,
          4.271,
          4.252,
          4.218,
          4.194,
          4.077,
          4.033,
          3.995,
          3.989,
          3.9560000000000004,
          3.931,
          3.904,
          3.8960000000000004,
          3.845,
          3.819,
          3.781,
          3.681,
          3.678,
          3.667,
          3.656,
          3.655,
          3.5869999999999997,
          3.575,
          3.465,
          3.34,
          3.0060000000000002,
          2.905,
          2.839
         ]
        }
       ],
       "layout": {
        "autosize": true,
        "geo": {
         "projection": {
          "type": "equirectangular"
         }
        },
        "template": {
         "data": {
          "bar": [
           {
            "error_x": {
             "color": "#2a3f5f"
            },
            "error_y": {
             "color": "#2a3f5f"
            },
            "marker": {
             "line": {
              "color": "#E5ECF6",
              "width": 0.5
             }
            },
            "type": "bar"
           }
          ],
          "barpolar": [
           {
            "marker": {
             "line": {
              "color": "#E5ECF6",
              "width": 0.5
             }
            },
            "type": "barpolar"
           }
          ],
          "carpet": [
           {
            "aaxis": {
             "endlinecolor": "#2a3f5f",
             "gridcolor": "white",
             "linecolor": "white",
             "minorgridcolor": "white",
             "startlinecolor": "#2a3f5f"
            },
            "baxis": {
             "endlinecolor": "#2a3f5f",
             "gridcolor": "white",
             "linecolor": "white",
             "minorgridcolor": "white",
             "startlinecolor": "#2a3f5f"
            },
            "type": "carpet"
           }
          ],
          "choropleth": [
           {
            "colorbar": {
             "outlinewidth": 0,
             "ticks": ""
            },
            "type": "choropleth"
           }
          ],
          "contour": [
           {
            "colorbar": {
             "outlinewidth": 0,
             "ticks": ""
            },
            "colorscale": [
             [
              0,
              "#0d0887"
             ],
             [
              0.1111111111111111,
              "#46039f"
             ],
             [
              0.2222222222222222,
              "#7201a8"
             ],
             [
              0.3333333333333333,
              "#9c179e"
             ],
             [
              0.4444444444444444,
              "#bd3786"
             ],
             [
              0.5555555555555556,
              "#d8576b"
             ],
             [
              0.6666666666666666,
              "#ed7953"
             ],
             [
              0.7777777777777778,
              "#fb9f3a"
             ],
             [
              0.8888888888888888,
              "#fdca26"
             ],
             [
              1,
              "#f0f921"
             ]
            ],
            "type": "contour"
           }
          ],
          "contourcarpet": [
           {
            "colorbar": {
             "outlinewidth": 0,
             "ticks": ""
            },
            "type": "contourcarpet"
           }
          ],
          "heatmap": [
           {
            "colorbar": {
             "outlinewidth": 0,
             "ticks": ""
            },
            "colorscale": [
             [
              0,
              "#0d0887"
             ],
             [
              0.1111111111111111,
              "#46039f"
             ],
             [
              0.2222222222222222,
              "#7201a8"
             ],
             [
              0.3333333333333333,
              "#9c179e"
             ],
             [
              0.4444444444444444,
              "#bd3786"
             ],
             [
              0.5555555555555556,
              "#d8576b"
             ],
             [
              0.6666666666666666,
              "#ed7953"
             ],
             [
              0.7777777777777778,
              "#fb9f3a"
             ],
             [
              0.8888888888888888,
              "#fdca26"
             ],
             [
              1,
              "#f0f921"
             ]
            ],
            "type": "heatmap"
           }
          ],
          "heatmapgl": [
           {
            "colorbar": {
             "outlinewidth": 0,
             "ticks": ""
            },
            "colorscale": [
             [
              0,
              "#0d0887"
             ],
             [
              0.1111111111111111,
              "#46039f"
             ],
             [
              0.2222222222222222,
              "#7201a8"
             ],
             [
              0.3333333333333333,
              "#9c179e"
             ],
             [
              0.4444444444444444,
              "#bd3786"
             ],
             [
              0.5555555555555556,
              "#d8576b"
             ],
             [
              0.6666666666666666,
              "#ed7953"
             ],
             [
              0.7777777777777778,
              "#fb9f3a"
             ],
             [
              0.8888888888888888,
              "#fdca26"
             ],
             [
              1,
              "#f0f921"
             ]
            ],
            "type": "heatmapgl"
           }
          ],
          "histogram": [
           {
            "marker": {
             "colorbar": {
              "outlinewidth": 0,
              "ticks": ""
             }
            },
            "type": "histogram"
           }
          ],
          "histogram2d": [
           {
            "colorbar": {
             "outlinewidth": 0,
             "ticks": ""
            },
            "colorscale": [
             [
              0,
              "#0d0887"
             ],
             [
              0.1111111111111111,
              "#46039f"
             ],
             [
              0.2222222222222222,
              "#7201a8"
             ],
             [
              0.3333333333333333,
              "#9c179e"
             ],
             [
              0.4444444444444444,
              "#bd3786"
             ],
             [
              0.5555555555555556,
              "#d8576b"
             ],
             [
              0.6666666666666666,
              "#ed7953"
             ],
             [
              0.7777777777777778,
              "#fb9f3a"
             ],
             [
              0.8888888888888888,
              "#fdca26"
             ],
             [
              1,
              "#f0f921"
             ]
            ],
            "type": "histogram2d"
           }
          ],
          "histogram2dcontour": [
           {
            "colorbar": {
             "outlinewidth": 0,
             "ticks": ""
            },
            "colorscale": [
             [
              0,
              "#0d0887"
             ],
             [
              0.1111111111111111,
              "#46039f"
             ],
             [
              0.2222222222222222,
              "#7201a8"
             ],
             [
              0.3333333333333333,
              "#9c179e"
             ],
             [
              0.4444444444444444,
              "#bd3786"
             ],
             [
              0.5555555555555556,
              "#d8576b"
             ],
             [
              0.6666666666666666,
              "#ed7953"
             ],
             [
              0.7777777777777778,
              "#fb9f3a"
             ],
             [
              0.8888888888888888,
              "#fdca26"
             ],
             [
              1,
              "#f0f921"
             ]
            ],
            "type": "histogram2dcontour"
           }
          ],
          "mesh3d": [
           {
            "colorbar": {
             "outlinewidth": 0,
             "ticks": ""
            },
            "type": "mesh3d"
           }
          ],
          "parcoords": [
           {
            "line": {
             "colorbar": {
              "outlinewidth": 0,
              "ticks": ""
             }
            },
            "type": "parcoords"
           }
          ],
          "pie": [
           {
            "automargin": true,
            "type": "pie"
           }
          ],
          "scatter": [
           {
            "marker": {
             "colorbar": {
              "outlinewidth": 0,
              "ticks": ""
             }
            },
            "type": "scatter"
           }
          ],
          "scatter3d": [
           {
            "line": {
             "colorbar": {
              "outlinewidth": 0,
              "ticks": ""
             }
            },
            "marker": {
             "colorbar": {
              "outlinewidth": 0,
              "ticks": ""
             }
            },
            "type": "scatter3d"
           }
          ],
          "scattercarpet": [
           {
            "marker": {
             "colorbar": {
              "outlinewidth": 0,
              "ticks": ""
             }
            },
            "type": "scattercarpet"
           }
          ],
          "scattergeo": [
           {
            "marker": {
             "colorbar": {
              "outlinewidth": 0,
              "ticks": ""
             }
            },
            "type": "scattergeo"
           }
          ],
          "scattergl": [
           {
            "marker": {
             "colorbar": {
              "outlinewidth": 0,
              "ticks": ""
             }
            },
            "type": "scattergl"
           }
          ],
          "scattermapbox": [
           {
            "marker": {
             "colorbar": {
              "outlinewidth": 0,
              "ticks": ""
             }
            },
            "type": "scattermapbox"
           }
          ],
          "scatterpolar": [
           {
            "marker": {
             "colorbar": {
              "outlinewidth": 0,
              "ticks": ""
             }
            },
            "type": "scatterpolar"
           }
          ],
          "scatterpolargl": [
           {
            "marker": {
             "colorbar": {
              "outlinewidth": 0,
              "ticks": ""
             }
            },
            "type": "scatterpolargl"
           }
          ],
          "scatterternary": [
           {
            "marker": {
             "colorbar": {
              "outlinewidth": 0,
              "ticks": ""
             }
            },
            "type": "scatterternary"
           }
          ],
          "surface": [
           {
            "colorbar": {
             "outlinewidth": 0,
             "ticks": ""
            },
            "colorscale": [
             [
              0,
              "#0d0887"
             ],
             [
              0.1111111111111111,
              "#46039f"
             ],
             [
              0.2222222222222222,
              "#7201a8"
             ],
             [
              0.3333333333333333,
              "#9c179e"
             ],
             [
              0.4444444444444444,
              "#bd3786"
             ],
             [
              0.5555555555555556,
              "#d8576b"
             ],
             [
              0.6666666666666666,
              "#ed7953"
             ],
             [
              0.7777777777777778,
              "#fb9f3a"
             ],
             [
              0.8888888888888888,
              "#fdca26"
             ],
             [
              1,
              "#f0f921"
             ]
            ],
            "type": "surface"
           }
          ],
          "table": [
           {
            "cells": {
             "fill": {
              "color": "#EBF0F8"
             },
             "line": {
              "color": "white"
             }
            },
            "header": {
             "fill": {
              "color": "#C8D4E3"
             },
             "line": {
              "color": "white"
             }
            },
            "type": "table"
           }
          ]
         },
         "layout": {
          "annotationdefaults": {
           "arrowcolor": "#2a3f5f",
           "arrowhead": 0,
           "arrowwidth": 1
          },
          "autotypenumbers": "strict",
          "coloraxis": {
           "colorbar": {
            "outlinewidth": 0,
            "ticks": ""
           }
          },
          "colorscale": {
           "diverging": [
            [
             0,
             "#8e0152"
            ],
            [
             0.1,
             "#c51b7d"
            ],
            [
             0.2,
             "#de77ae"
            ],
            [
             0.3,
             "#f1b6da"
            ],
            [
             0.4,
             "#fde0ef"
            ],
            [
             0.5,
             "#f7f7f7"
            ],
            [
             0.6,
             "#e6f5d0"
            ],
            [
             0.7,
             "#b8e186"
            ],
            [
             0.8,
             "#7fbc41"
            ],
            [
             0.9,
             "#4d9221"
            ],
            [
             1,
             "#276419"
            ]
           ],
           "sequential": [
            [
             0,
             "#0d0887"
            ],
            [
             0.1111111111111111,
             "#46039f"
            ],
            [
             0.2222222222222222,
             "#7201a8"
            ],
            [
             0.3333333333333333,
             "#9c179e"
            ],
            [
             0.4444444444444444,
             "#bd3786"
            ],
            [
             0.5555555555555556,
             "#d8576b"
            ],
            [
             0.6666666666666666,
             "#ed7953"
            ],
            [
             0.7777777777777778,
             "#fb9f3a"
            ],
            [
             0.8888888888888888,
             "#fdca26"
            ],
            [
             1,
             "#f0f921"
            ]
           ],
           "sequentialminus": [
            [
             0,
             "#0d0887"
            ],
            [
             0.1111111111111111,
             "#46039f"
            ],
            [
             0.2222222222222222,
             "#7201a8"
            ],
            [
             0.3333333333333333,
             "#9c179e"
            ],
            [
             0.4444444444444444,
             "#bd3786"
            ],
            [
             0.5555555555555556,
             "#d8576b"
            ],
            [
             0.6666666666666666,
             "#ed7953"
            ],
            [
             0.7777777777777778,
             "#fb9f3a"
            ],
            [
             0.8888888888888888,
             "#fdca26"
            ],
            [
             1,
             "#f0f921"
            ]
           ]
          },
          "colorway": [
           "#636efa",
           "#EF553B",
           "#00cc96",
           "#ab63fa",
           "#FFA15A",
           "#19d3f3",
           "#FF6692",
           "#B6E880",
           "#FF97FF",
           "#FECB52"
          ],
          "font": {
           "color": "#2a3f5f"
          },
          "geo": {
           "bgcolor": "white",
           "lakecolor": "white",
           "landcolor": "#E5ECF6",
           "showlakes": true,
           "showland": true,
           "subunitcolor": "white"
          },
          "hoverlabel": {
           "align": "left"
          },
          "hovermode": "closest",
          "mapbox": {
           "style": "light"
          },
          "paper_bgcolor": "white",
          "plot_bgcolor": "#E5ECF6",
          "polar": {
           "angularaxis": {
            "gridcolor": "white",
            "linecolor": "white",
            "ticks": ""
           },
           "bgcolor": "#E5ECF6",
           "radialaxis": {
            "gridcolor": "white",
            "linecolor": "white",
            "ticks": ""
           }
          },
          "scene": {
           "xaxis": {
            "backgroundcolor": "#E5ECF6",
            "gridcolor": "white",
            "gridwidth": 2,
            "linecolor": "white",
            "showbackground": true,
            "ticks": "",
            "zerolinecolor": "white"
           },
           "yaxis": {
            "backgroundcolor": "#E5ECF6",
            "gridcolor": "white",
            "gridwidth": 2,
            "linecolor": "white",
            "showbackground": true,
            "ticks": "",
            "zerolinecolor": "white"
           },
           "zaxis": {
            "backgroundcolor": "#E5ECF6",
            "gridcolor": "white",
            "gridwidth": 2,
            "linecolor": "white",
            "showbackground": true,
            "ticks": "",
            "zerolinecolor": "white"
           }
          },
          "shapedefaults": {
           "line": {
            "color": "#2a3f5f"
           }
          },
          "ternary": {
           "aaxis": {
            "gridcolor": "white",
            "linecolor": "white",
            "ticks": ""
           },
           "baxis": {
            "gridcolor": "white",
            "linecolor": "white",
            "ticks": ""
           },
           "bgcolor": "#E5ECF6",
           "caxis": {
            "gridcolor": "white",
            "linecolor": "white",
            "ticks": ""
           }
          },
          "title": {
           "x": 0.05
          },
          "xaxis": {
           "automargin": true,
           "gridcolor": "white",
           "linecolor": "white",
           "ticks": "",
           "title": {
            "standoff": 15
           },
           "zerolinecolor": "white",
           "zerolinewidth": 2
          },
          "yaxis": {
           "automargin": true,
           "gridcolor": "white",
           "linecolor": "white",
           "ticks": "",
           "title": {
            "standoff": 15
           },
           "zerolinecolor": "white",
           "zerolinewidth": 2
          }
         }
        },
        "title": {
         "text": "2015 Happiness Score"
        }
       }
      },
      "image/png": "[encoded data removed]",
      "text/html": [
       "<div>                            <div id=\"b5d959a1-0fd8-4333-8986-4e16b3eaede2\" class=\"plotly-graph-div\" style=\"height:525px; width:100%;\"></div>            <script type=\"text/javascript\">                require([\"plotly\"], function(Plotly) {                    window.PLOTLYENV=window.PLOTLYENV || {};                                    if (document.getElementById(\"b5d959a1-0fd8-4333-8986-4e16b3eaede2\")) {                    Plotly.newPlot(                        \"b5d959a1-0fd8-4333-8986-4e16b3eaede2\",                        [{\"colorbar\": {\"title\": {\"text\": \"Happiness Score\"}}, \"colorscale\": [[0.0, \"#440154\"], [0.1111111111111111, \"#482878\"], [0.2222222222222222, \"#3e4989\"], [0.3333333333333333, \"#31688e\"], [0.4444444444444444, \"#26828e\"], [0.5555555555555556, \"#1f9e89\"], [0.6666666666666666, \"#35b779\"], [0.7777777777777778, \"#6ece58\"], [0.8888888888888888, \"#b5de2b\"], [1.0, \"#fde725\"]], \"locationmode\": \"country names\", \"locations\": [\"Switzerland\", \"Iceland\", \"Denmark\", \"Norway\", \"Canada\", \"Finland\", \"Netherlands\", \"Sweden\", \"New Zealand\", \"Australia\", \"Israel\", \"Costa Rica\", \"Austria\", \"Mexico\", \"United States\", \"Brazil\", \"Luxembourg\", \"Ireland\", \"Belgium\", \"United Arab Emirates\", \"United Kingdom\", \"Oman\", \"Venezuela\", \"Singapore\", \"Panama\", \"Germany\", \"Chile\", \"Qatar\", \"France\", \"Argentina\", \"Czech Republic\", \"Uruguay\", \"Colombia\", \"Thailand\", \"Saudi Arabia\", \"Spain\", \"Malta\", \"Taiwan\", \"Kuwait\", \"Suriname\", \"Trinidad and Tobago\", \"El Salvador\", \"Guatemala\", \"Uzbekistan\", \"Slovakia\", \"Japan\", \"South Korea\", \"Ecuador\", \"Bahrain\", \"Italy\", \"Bolivia\", \"Moldova\", \"Paraguay\", \"Kazakhstan\", \"Slovenia\", \"Lithuania\", \"Nicaragua\", \"Peru\", \"Belarus\", \"Poland\", \"Malaysia\", \"Croatia\", \"Libya\", \"Russia\", \"Jamaica\", \"North Cyprus\", \"Cyprus\", \"Algeria\", \"Kosovo\", \"Turkmenistan\", \"Mauritius\", \"Hong Kong\", \"Estonia\", \"Indonesia\", \"Vietnam\", \"Turkey\", \"Kyrgyzstan\", \"Nigeria\", \"Bhutan\", \"Azerbaijan\", \"Pakistan\", \"Jordan\", \"Montenegro\", \"China\", \"Zambia\", \"Romania\", \"Serbia\", \"Portugal\", \"Latvia\", \"Philippines\", \"Somaliland region\", \"Morocco\", \"Macedonia\", \"Mozambique\", \"Albania\", \"Bosnia and Herzegovina\", \"Lesotho\", \"Dominican Republic\", \"Laos\", \"Mongolia\", \"Swaziland\", \"Greece\", \"Lebanon\", \"Hungary\", \"Honduras\", \"Tajikistan\", \"Tunisia\", \"Palestinian Territories\", \"Bangladesh\", \"Iran\", \"Ukraine\", \"Iraq\", \"South Africa\", \"Ghana\", \"Zimbabwe\", \"Liberia\", \"India\", \"Sudan\", \"Haiti\", \"Congo (Kinshasa)\", \"Nepal\", \"Ethiopia\", \"Sierra Leone\", \"Mauritania\", \"Kenya\", \"Djibouti\", \"Armenia\", \"Botswana\", \"Myanmar\", \"Georgia\", \"Malawi\", \"Sri Lanka\", \"Cameroon\", \"Bulgaria\", \"Egypt\", \"Yemen\", \"Angola\", \"Mali\", \"Congo (Brazzaville)\", \"Comoros\", \"Uganda\", \"Senegal\", \"Gabon\", \"Niger\", \"Cambodia\", \"Tanzania\", \"Madagascar\", \"Central African Republic\", \"Chad\", \"Guinea\", \"Ivory Coast\", \"Burkina Faso\", \"Afghanistan\", \"Rwanda\", \"Benin\", \"Syria\", \"Burundi\", \"Togo\"], \"type\": \"choropleth\", \"z\": [7.587000000000001, 7.561, 7.527, 7.522, 7.4270000000000005, 7.406000000000001, 7.377999999999999, 7.364, 7.2860000000000005, 7.284, 7.278, 7.226, 7.2, 7.187, 7.119, 6.983, 6.946000000000001, 6.94, 6.937, 6.901, 6.867000000000001, 6.853, 6.81, 6.797999999999999, 6.7860000000000005, 6.75, 6.67, 6.611000000000001, 6.575, 6.574, 6.505, 6.485, 6.477, 6.455, 6.4110000000000005, 6.329, 6.3020000000000005, 6.297999999999999, 6.295, 6.269, 6.167999999999999, 6.13, 6.122999999999999, 6.002999999999999, 5.995, 5.987, 5.984, 5.975, 5.96, 5.9479999999999995, 5.89, 5.888999999999999, 5.877999999999999, 5.855, 5.848, 5.832999999999999, 5.827999999999999, 5.824, 5.813, 5.791, 5.77, 5.7589999999999995, 5.754, 5.716, 5.709, 5.695, 5.689, 5.605, 5.5889999999999995, 5.547999999999999, 5.477, 5.474, 5.428999999999999, 5.399, 5.36, 5.332000000000001, 5.2860000000000005, 5.268, 5.252999999999999, 5.212000000000001, 5.194, 5.192, 5.192, 5.14, 5.129, 5.124, 5.122999999999999, 5.102, 5.098, 5.073, 5.0569999999999995, 5.013, 5.007, 4.971, 4.959, 4.949, 4.898, 4.885, 4.876, 4.874, 4.867, 4.857, 4.8389999999999995, 4.8, 4.788, 4.7860000000000005, 4.739, 4.715, 4.694, 4.686, 4.681, 4.677, 4.6419999999999995, 4.633, 4.61, 4.571000000000001, 4.565, 4.55, 4.518, 4.5169999999999995, 4.513999999999999, 4.512, 4.507, 4.436, 4.419, 4.369, 4.35, 4.332, 4.3069999999999995, 4.297, 4.292, 4.271, 4.252, 4.218, 4.194, 4.077, 4.033, 3.995, 3.989, 3.9560000000000004, 3.931, 3.904, 3.8960000000000004, 3.845, 3.819, 3.781, 3.681, 3.678, 3.667, 3.656, 3.655, 3.5869999999999997, 3.575, 3.465, 3.34, 3.0060000000000002, 2.905, 2.839]}],                        {\"geo\": {\"projection\": {\"type\": \"equirectangular\"}}, \"template\": {\"data\": {\"bar\": [{\"error_x\": {\"color\": \"#2a3f5f\"}, \"error_y\": {\"color\": \"#2a3f5f\"}, \"marker\": {\"line\": {\"color\": \"#E5ECF6\", \"width\": 0.5}}, \"type\": \"bar\"}], \"barpolar\": [{\"marker\": {\"line\": {\"color\": \"#E5ECF6\", \"width\": 0.5}}, \"type\": \"barpolar\"}], \"carpet\": [{\"aaxis\": {\"endlinecolor\": \"#2a3f5f\", \"gridcolor\": \"white\", \"linecolor\": \"white\", \"minorgridcolor\": \"white\", \"startlinecolor\": \"#2a3f5f\"}, \"baxis\": {\"endlinecolor\": \"#2a3f5f\", \"gridcolor\": \"white\", \"linecolor\": \"white\", \"minorgridcolor\": \"white\", \"startlinecolor\": \"#2a3f5f\"}, \"type\": \"carpet\"}], \"choropleth\": [{\"colorbar\": {\"outlinewidth\": 0, \"ticks\": \"\"}, \"type\": \"choropleth\"}], \"contour\": [{\"colorbar\": {\"outlinewidth\": 0, \"ticks\": \"\"}, \"colorscale\": [[0.0, \"#0d0887\"], [0.1111111111111111, \"#46039f\"], [0.2222222222222222, \"#7201a8\"], [0.3333333333333333, \"#9c179e\"], [0.4444444444444444, \"#bd3786\"], [0.5555555555555556, \"#d8576b\"], [0.6666666666666666, \"#ed7953\"], [0.7777777777777778, \"#fb9f3a\"], [0.8888888888888888, \"#fdca26\"], [1.0, \"#f0f921\"]], \"type\": \"contour\"}], \"contourcarpet\": [{\"colorbar\": {\"outlinewidth\": 0, \"ticks\": \"\"}, \"type\": \"contourcarpet\"}], \"heatmap\": [{\"colorbar\": {\"outlinewidth\": 0, \"ticks\": \"\"}, \"colorscale\": [[0.0, \"#0d0887\"], [0.1111111111111111, \"#46039f\"], [0.2222222222222222, \"#7201a8\"], [0.3333333333333333, \"#9c179e\"], [0.4444444444444444, \"#bd3786\"], [0.5555555555555556, \"#d8576b\"], [0.6666666666666666, \"#ed7953\"], [0.7777777777777778, \"#fb9f3a\"], [0.8888888888888888, \"#fdca26\"], [1.0, \"#f0f921\"]], \"type\": \"heatmap\"}], \"heatmapgl\": [{\"colorbar\": {\"outlinewidth\": 0, \"ticks\": \"\"}, \"colorscale\": [[0.0, \"#0d0887\"], [0.1111111111111111, \"#46039f\"], [0.2222222222222222, \"#7201a8\"], [0.3333333333333333, \"#9c179e\"], [0.4444444444444444, \"#bd3786\"], [0.5555555555555556, \"#d8576b\"], [0.6666666666666666, \"#ed7953\"], [0.7777777777777778, \"#fb9f3a\"], [0.8888888888888888, \"#fdca26\"], [1.0, \"#f0f921\"]], \"type\": \"heatmapgl\"}], \"histogram\": [{\"marker\": {\"colorbar\": {\"outlinewidth\": 0, \"ticks\": \"\"}}, \"type\": \"histogram\"}], \"histogram2d\": [{\"colorbar\": {\"outlinewidth\": 0, \"ticks\": \"\"}, \"colorscale\": [[0.0, \"#0d0887\"], [0.1111111111111111, \"#46039f\"], [0.2222222222222222, \"#7201a8\"], [0.3333333333333333, \"#9c179e\"], [0.4444444444444444, \"#bd3786\"], [0.5555555555555556, \"#d8576b\"], [0.6666666666666666, \"#ed7953\"], [0.7777777777777778, \"#fb9f3a\"], [0.8888888888888888, \"#fdca26\"], [1.0, \"#f0f921\"]], \"type\": \"histogram2d\"}], \"histogram2dcontour\": [{\"colorbar\": {\"outlinewidth\": 0, \"ticks\": \"\"}, \"colorscale\": [[0.0, \"#0d0887\"], [0.1111111111111111, \"#46039f\"], [0.2222222222222222, \"#7201a8\"], [0.3333333333333333, \"#9c179e\"], [0.4444444444444444, \"#bd3786\"], [0.5555555555555556, \"#d8576b\"], [0.6666666666666666, \"#ed7953\"], [0.7777777777777778, \"#fb9f3a\"], [0.8888888888888888, \"#fdca26\"], [1.0, \"#f0f921\"]], \"type\": \"histogram2dcontour\"}], \"mesh3d\": [{\"colorbar\": {\"outlinewidth\": 0, \"ticks\": \"\"}, \"type\": \"mesh3d\"}], \"parcoords\": [{\"line\": {\"colorbar\": {\"outlinewidth\": 0, \"ticks\": \"\"}}, \"type\": \"parcoords\"}], \"pie\": [{\"automargin\": true, \"type\": \"pie\"}], \"scatter\": [{\"marker\": {\"colorbar\": {\"outlinewidth\": 0, \"ticks\": \"\"}}, \"type\": \"scatter\"}], \"scatter3d\": [{\"line\": {\"colorbar\": {\"outlinewidth\": 0, \"ticks\": \"\"}}, \"marker\": {\"colorbar\": {\"outlinewidth\": 0, \"ticks\": \"\"}}, \"type\": \"scatter3d\"}], \"scattercarpet\": [{\"marker\": {\"colorbar\": {\"outlinewidth\": 0, \"ticks\": \"\"}}, \"type\": \"scattercarpet\"}], \"scattergeo\": [{\"marker\": {\"colorbar\": {\"outlinewidth\": 0, \"ticks\": \"\"}}, \"type\": \"scattergeo\"}], \"scattergl\": [{\"marker\": {\"colorbar\": {\"outlinewidth\": 0, \"ticks\": \"\"}}, \"type\": \"scattergl\"}], \"scattermapbox\": [{\"marker\": {\"colorbar\": {\"outlinewidth\": 0, \"ticks\": \"\"}}, \"type\": \"scattermapbox\"}], \"scatterpolar\": [{\"marker\": {\"colorbar\": {\"outlinewidth\": 0, \"ticks\": \"\"}}, \"type\": \"scatterpolar\"}], \"scatterpolargl\": [{\"marker\": {\"colorbar\": {\"outlinewidth\": 0, \"ticks\": \"\"}}, \"type\": \"scatterpolargl\"}], \"scatterternary\": [{\"marker\": {\"colorbar\": {\"outlinewidth\": 0, \"ticks\": \"\"}}, \"type\": \"scatterternary\"}], \"surface\": [{\"colorbar\": {\"outlinewidth\": 0, \"ticks\": \"\"}, \"colorscale\": [[0.0, \"#0d0887\"], [0.1111111111111111, \"#46039f\"], [0.2222222222222222, \"#7201a8\"], [0.3333333333333333, \"#9c179e\"], [0.4444444444444444, \"#bd3786\"], [0.5555555555555556, \"#d8576b\"], [0.6666666666666666, \"#ed7953\"], [0.7777777777777778, \"#fb9f3a\"], [0.8888888888888888, \"#fdca26\"], [1.0, \"#f0f921\"]], \"type\": \"surface\"}], \"table\": [{\"cells\": {\"fill\": {\"color\": \"#EBF0F8\"}, \"line\": {\"color\": \"white\"}}, \"header\": {\"fill\": {\"color\": \"#C8D4E3\"}, \"line\": {\"color\": \"white\"}}, \"type\": \"table\"}]}, \"layout\": {\"annotationdefaults\": {\"arrowcolor\": \"#2a3f5f\", \"arrowhead\": 0, \"arrowwidth\": 1}, \"autotypenumbers\": \"strict\", \"coloraxis\": {\"colorbar\": {\"outlinewidth\": 0, \"ticks\": \"\"}}, \"colorscale\": {\"diverging\": [[0, \"#8e0152\"], [0.1, \"#c51b7d\"], [0.2, \"#de77ae\"], [0.3, \"#f1b6da\"], [0.4, \"#fde0ef\"], [0.5, \"#f7f7f7\"], [0.6, \"#e6f5d0\"], [0.7, \"#b8e186\"], [0.8, \"#7fbc41\"], [0.9, \"#4d9221\"], [1, \"#276419\"]], \"sequential\": [[0.0, \"#0d0887\"], [0.1111111111111111, \"#46039f\"], [0.2222222222222222, \"#7201a8\"], [0.3333333333333333, \"#9c179e\"], [0.4444444444444444, \"#bd3786\"], [0.5555555555555556, \"#d8576b\"], [0.6666666666666666, \"#ed7953\"], [0.7777777777777778, \"#fb9f3a\"], [0.8888888888888888, \"#fdca26\"], [1.0, \"#f0f921\"]], \"sequentialminus\": [[0.0, \"#0d0887\"], [0.1111111111111111, \"#46039f\"], [0.2222222222222222, \"#7201a8\"], [0.3333333333333333, \"#9c179e\"], [0.4444444444444444, \"#bd3786\"], [0.5555555555555556, \"#d8576b\"], [0.6666666666666666, \"#ed7953\"], [0.7777777777777778, \"#fb9f3a\"], [0.8888888888888888, \"#fdca26\"], [1.0, \"#f0f921\"]]}, \"colorway\": [\"#636efa\", \"#EF553B\", \"#00cc96\", \"#ab63fa\", \"#FFA15A\", \"#19d3f3\", \"#FF6692\", \"#B6E880\", \"#FF97FF\", \"#FECB52\"], \"font\": {\"color\": \"#2a3f5f\"}, \"geo\": {\"bgcolor\": \"white\", \"lakecolor\": \"white\", \"landcolor\": \"#E5ECF6\", \"showlakes\": true, \"showland\": true, \"subunitcolor\": \"white\"}, \"hoverlabel\": {\"align\": \"left\"}, \"hovermode\": \"closest\", \"mapbox\": {\"style\": \"light\"}, \"paper_bgcolor\": \"white\", \"plot_bgcolor\": \"#E5ECF6\", \"polar\": {\"angularaxis\": {\"gridcolor\": \"white\", \"linecolor\": \"white\", \"ticks\": \"\"}, \"bgcolor\": \"#E5ECF6\", \"radialaxis\": {\"gridcolor\": \"white\", \"linecolor\": \"white\", \"ticks\": \"\"}}, \"scene\": {\"xaxis\": {\"backgroundcolor\": \"#E5ECF6\", \"gridcolor\": \"white\", \"gridwidth\": 2, \"linecolor\": \"white\", \"showbackground\": true, \"ticks\": \"\", \"zerolinecolor\": \"white\"}, \"yaxis\": {\"backgroundcolor\": \"#E5ECF6\", \"gridcolor\": \"white\", \"gridwidth\": 2, \"linecolor\": \"white\", \"showbackground\": true, \"ticks\": \"\", \"zerolinecolor\": \"white\"}, \"zaxis\": {\"backgroundcolor\": \"#E5ECF6\", \"gridcolor\": \"white\", \"gridwidth\": 2, \"linecolor\": \"white\", \"showbackground\": true, \"ticks\": \"\", \"zerolinecolor\": \"white\"}}, \"shapedefaults\": {\"line\": {\"color\": \"#2a3f5f\"}}, \"ternary\": {\"aaxis\": {\"gridcolor\": \"white\", \"linecolor\": \"white\", \"ticks\": \"\"}, \"baxis\": {\"gridcolor\": \"white\", \"linecolor\": \"white\", \"ticks\": \"\"}, \"bgcolor\": \"#E5ECF6\", \"caxis\": {\"gridcolor\": \"white\", \"linecolor\": \"white\", \"ticks\": \"\"}}, \"title\": {\"x\": 0.05}, \"xaxis\": {\"automargin\": true, \"gridcolor\": \"white\", \"linecolor\": \"white\", \"ticks\": \"\", \"title\": {\"standoff\": 15}, \"zerolinecolor\": \"white\", \"zerolinewidth\": 2}, \"yaxis\": {\"automargin\": true, \"gridcolor\": \"white\", \"linecolor\": \"white\", \"ticks\": \"\", \"title\": {\"standoff\": 15}, \"zerolinecolor\": \"white\", \"zerolinewidth\": 2}}}, \"title\": {\"text\": \"2015 Happiness Score\"}},                        {\"responsive\": true}                    ).then(function(){\n",
       "                            \n",
       "var gd = document.getElementById('b5d959a1-0fd8-4333-8986-4e16b3eaede2');\n",
       "var x = new MutationObserver(function (mutations, observer) {{\n",
       "        var display = window.getComputedStyle(gd).display;\n",
       "        if (!display || display === 'none') {{\n",
       "            console.log([gd, 'removed!']);\n",
       "            Plotly.purge(gd);\n",
       "            observer.disconnect();\n",
       "        }}\n",
       "}});\n",
       "\n",
       "// Listen for the removal of the full notebook cells\n",
       "var notebookContainer = gd.closest('#notebook-container');\n",
       "if (notebookContainer) {{\n",
       "    x.observe(notebookContainer, {childList: true});\n",
       "}}\n",
       "\n",
       "// Listen for the clearing of the current output cell\n",
       "var outputEl = gd.closest('.output');\n",
       "if (outputEl) {{\n",
       "    x.observe(outputEl, {childList: true});\n",
       "}}\n",
       "\n",
       "                        })                };                });            </script>        </div>"
      ]
     },
     "metadata": {},
     "output_type": "display_data"
    }
   ],
   "source": [
    "choromap = go.Figure(data = [data],layout = layout)\n",
    "iplot(choromap,validate=False)"
   ]
  },
  {
   "cell_type": "code",
   "execution_count": 183,
   "metadata": {},
   "outputs": [
    {
     "data": {
      "text/html": [
       "<div>\n",
       "<style scoped>\n",
       "    .dataframe tbody tr th:only-of-type {\n",
       "        vertical-align: middle;\n",
       "    }\n",
       "\n",
       "    .dataframe tbody tr th {\n",
       "        vertical-align: top;\n",
       "    }\n",
       "\n",
       "    .dataframe thead th {\n",
       "        text-align: right;\n",
       "    }\n",
       "</style>\n",
       "<table border=\"1\" class=\"dataframe\">\n",
       "  <thead>\n",
       "    <tr style=\"text-align: right;\">\n",
       "      <th></th>\n",
       "      <th>Happiness Rank</th>\n",
       "      <th>Happiness Score</th>\n",
       "      <th>Standard Error</th>\n",
       "      <th>Economy</th>\n",
       "      <th>Family</th>\n",
       "      <th>Health</th>\n",
       "      <th>Freedom</th>\n",
       "      <th>Trust</th>\n",
       "      <th>Generosity</th>\n",
       "      <th>Dystopia Residual</th>\n",
       "      <th>longitude</th>\n",
       "      <th>latitude</th>\n",
       "    </tr>\n",
       "  </thead>\n",
       "  <tbody>\n",
       "    <tr>\n",
       "      <th>Happiness Rank</th>\n",
       "      <td>1.000000</td>\n",
       "      <td>-0.992105</td>\n",
       "      <td>0.158516</td>\n",
       "      <td>-0.785267</td>\n",
       "      <td>-0.733644</td>\n",
       "      <td>-0.735613</td>\n",
       "      <td>-0.556886</td>\n",
       "      <td>-0.372315</td>\n",
       "      <td>-0.160142</td>\n",
       "      <td>-0.521999</td>\n",
       "      <td>0.138856</td>\n",
       "      <td>-0.250699</td>\n",
       "    </tr>\n",
       "    <tr>\n",
       "      <th>Happiness Score</th>\n",
       "      <td>-0.992105</td>\n",
       "      <td>1.000000</td>\n",
       "      <td>-0.177254</td>\n",
       "      <td>0.780966</td>\n",
       "      <td>0.740605</td>\n",
       "      <td>0.724200</td>\n",
       "      <td>0.568211</td>\n",
       "      <td>0.395199</td>\n",
       "      <td>0.180319</td>\n",
       "      <td>0.530474</td>\n",
       "      <td>-0.137466</td>\n",
       "      <td>0.246252</td>\n",
       "    </tr>\n",
       "    <tr>\n",
       "      <th>Standard Error</th>\n",
       "      <td>0.158516</td>\n",
       "      <td>-0.177254</td>\n",
       "      <td>1.000000</td>\n",
       "      <td>-0.217651</td>\n",
       "      <td>-0.120728</td>\n",
       "      <td>-0.310287</td>\n",
       "      <td>-0.129773</td>\n",
       "      <td>-0.178325</td>\n",
       "      <td>-0.088439</td>\n",
       "      <td>0.083981</td>\n",
       "      <td>-0.235877</td>\n",
       "      <td>-0.316298</td>\n",
       "    </tr>\n",
       "    <tr>\n",
       "      <th>Economy</th>\n",
       "      <td>-0.785267</td>\n",
       "      <td>0.780966</td>\n",
       "      <td>-0.217651</td>\n",
       "      <td>1.000000</td>\n",
       "      <td>0.645299</td>\n",
       "      <td>0.816478</td>\n",
       "      <td>0.370300</td>\n",
       "      <td>0.307885</td>\n",
       "      <td>-0.010465</td>\n",
       "      <td>0.040059</td>\n",
       "      <td>0.016079</td>\n",
       "      <td>0.412978</td>\n",
       "    </tr>\n",
       "    <tr>\n",
       "      <th>Family</th>\n",
       "      <td>-0.733644</td>\n",
       "      <td>0.740605</td>\n",
       "      <td>-0.120728</td>\n",
       "      <td>0.645299</td>\n",
       "      <td>1.000000</td>\n",
       "      <td>0.531104</td>\n",
       "      <td>0.441518</td>\n",
       "      <td>0.205605</td>\n",
       "      <td>0.087513</td>\n",
       "      <td>0.148117</td>\n",
       "      <td>-0.128175</td>\n",
       "      <td>0.218878</td>\n",
       "    </tr>\n",
       "    <tr>\n",
       "      <th>Health</th>\n",
       "      <td>-0.735613</td>\n",
       "      <td>0.724200</td>\n",
       "      <td>-0.310287</td>\n",
       "      <td>0.816478</td>\n",
       "      <td>0.531104</td>\n",
       "      <td>1.000000</td>\n",
       "      <td>0.360477</td>\n",
       "      <td>0.248335</td>\n",
       "      <td>0.108335</td>\n",
       "      <td>0.018979</td>\n",
       "      <td>0.022600</td>\n",
       "      <td>0.423024</td>\n",
       "    </tr>\n",
       "    <tr>\n",
       "      <th>Freedom</th>\n",
       "      <td>-0.556886</td>\n",
       "      <td>0.568211</td>\n",
       "      <td>-0.129773</td>\n",
       "      <td>0.370300</td>\n",
       "      <td>0.441518</td>\n",
       "      <td>0.360477</td>\n",
       "      <td>1.000000</td>\n",
       "      <td>0.493524</td>\n",
       "      <td>0.373916</td>\n",
       "      <td>0.062783</td>\n",
       "      <td>-0.028166</td>\n",
       "      <td>0.043668</td>\n",
       "    </tr>\n",
       "    <tr>\n",
       "      <th>Trust</th>\n",
       "      <td>-0.372315</td>\n",
       "      <td>0.395199</td>\n",
       "      <td>-0.178325</td>\n",
       "      <td>0.307885</td>\n",
       "      <td>0.205605</td>\n",
       "      <td>0.248335</td>\n",
       "      <td>0.493524</td>\n",
       "      <td>1.000000</td>\n",
       "      <td>0.276123</td>\n",
       "      <td>-0.033105</td>\n",
       "      <td>0.174186</td>\n",
       "      <td>0.075463</td>\n",
       "    </tr>\n",
       "    <tr>\n",
       "      <th>Generosity</th>\n",
       "      <td>-0.160142</td>\n",
       "      <td>0.180319</td>\n",
       "      <td>-0.088439</td>\n",
       "      <td>-0.010465</td>\n",
       "      <td>0.087513</td>\n",
       "      <td>0.108335</td>\n",
       "      <td>0.373916</td>\n",
       "      <td>0.276123</td>\n",
       "      <td>1.000000</td>\n",
       "      <td>-0.101301</td>\n",
       "      <td>0.131391</td>\n",
       "      <td>-0.046323</td>\n",
       "    </tr>\n",
       "    <tr>\n",
       "      <th>Dystopia Residual</th>\n",
       "      <td>-0.521999</td>\n",
       "      <td>0.530474</td>\n",
       "      <td>0.083981</td>\n",
       "      <td>0.040059</td>\n",
       "      <td>0.148117</td>\n",
       "      <td>0.018979</td>\n",
       "      <td>0.062783</td>\n",
       "      <td>-0.033105</td>\n",
       "      <td>-0.101301</td>\n",
       "      <td>1.000000</td>\n",
       "      <td>-0.304368</td>\n",
       "      <td>-0.106087</td>\n",
       "    </tr>\n",
       "    <tr>\n",
       "      <th>longitude</th>\n",
       "      <td>0.138856</td>\n",
       "      <td>-0.137466</td>\n",
       "      <td>-0.235877</td>\n",
       "      <td>0.016079</td>\n",
       "      <td>-0.128175</td>\n",
       "      <td>0.022600</td>\n",
       "      <td>-0.028166</td>\n",
       "      <td>0.174186</td>\n",
       "      <td>0.131391</td>\n",
       "      <td>-0.304368</td>\n",
       "      <td>1.000000</td>\n",
       "      <td>-0.017306</td>\n",
       "    </tr>\n",
       "    <tr>\n",
       "      <th>latitude</th>\n",
       "      <td>-0.250699</td>\n",
       "      <td>0.246252</td>\n",
       "      <td>-0.316298</td>\n",
       "      <td>0.412978</td>\n",
       "      <td>0.218878</td>\n",
       "      <td>0.423024</td>\n",
       "      <td>0.043668</td>\n",
       "      <td>0.075463</td>\n",
       "      <td>-0.046323</td>\n",
       "      <td>-0.106087</td>\n",
       "      <td>-0.017306</td>\n",
       "      <td>1.000000</td>\n",
       "    </tr>\n",
       "  </tbody>\n",
       "</table>\n",
       "</div>"
      ],
      "text/plain": [
       "                   Happiness Rank  Happiness Score  Standard Error   Economy  \\\n",
       "Happiness Rank           1.000000        -0.992105        0.158516 -0.785267   \n",
       "Happiness Score         -0.992105         1.000000       -0.177254  0.780966   \n",
       "Standard Error           0.158516        -0.177254        1.000000 -0.217651   \n",
       "Economy                 -0.785267         0.780966       -0.217651  1.000000   \n",
       "Family                  -0.733644         0.740605       -0.120728  0.645299   \n",
       "Health                  -0.735613         0.724200       -0.310287  0.816478   \n",
       "Freedom                 -0.556886         0.568211       -0.129773  0.370300   \n",
       "Trust                   -0.372315         0.395199       -0.178325  0.307885   \n",
       "Generosity              -0.160142         0.180319       -0.088439 -0.010465   \n",
       "Dystopia Residual       -0.521999         0.530474        0.083981  0.040059   \n",
       "longitude                0.138856        -0.137466       -0.235877  0.016079   \n",
       "latitude                -0.250699         0.246252       -0.316298  0.412978   \n",
       "\n",
       "                     Family    Health   Freedom     Trust  Generosity  \\\n",
       "Happiness Rank    -0.733644 -0.735613 -0.556886 -0.372315   -0.160142   \n",
       "Happiness Score    0.740605  0.724200  0.568211  0.395199    0.180319   \n",
       "Standard Error    -0.120728 -0.310287 -0.129773 -0.178325   -0.088439   \n",
       "Economy            0.645299  0.816478  0.370300  0.307885   -0.010465   \n",
       "Family             1.000000  0.531104  0.441518  0.205605    0.087513   \n",
       "Health             0.531104  1.000000  0.360477  0.248335    0.108335   \n",
       "Freedom            0.441518  0.360477  1.000000  0.493524    0.373916   \n",
       "Trust              0.205605  0.248335  0.493524  1.000000    0.276123   \n",
       "Generosity         0.087513  0.108335  0.373916  0.276123    1.000000   \n",
       "Dystopia Residual  0.148117  0.018979  0.062783 -0.033105   -0.101301   \n",
       "longitude         -0.128175  0.022600 -0.028166  0.174186    0.131391   \n",
       "latitude           0.218878  0.423024  0.043668  0.075463   -0.046323   \n",
       "\n",
       "                   Dystopia Residual  longitude  latitude  \n",
       "Happiness Rank             -0.521999   0.138856 -0.250699  \n",
       "Happiness Score             0.530474  -0.137466  0.246252  \n",
       "Standard Error              0.083981  -0.235877 -0.316298  \n",
       "Economy                     0.040059   0.016079  0.412978  \n",
       "Family                      0.148117  -0.128175  0.218878  \n",
       "Health                      0.018979   0.022600  0.423024  \n",
       "Freedom                     0.062783  -0.028166  0.043668  \n",
       "Trust                      -0.033105   0.174186  0.075463  \n",
       "Generosity                 -0.101301   0.131391 -0.046323  \n",
       "Dystopia Residual           1.000000  -0.304368 -0.106087  \n",
       "longitude                  -0.304368   1.000000 -0.017306  \n",
       "latitude                   -0.106087  -0.017306  1.000000  "
      ]
     },
     "execution_count": 183,
     "metadata": {},
     "output_type": "execute_result"
    }
   ],
   "source": [
    "# finding the correlation \n",
    "\n",
    "corr_matrix = dataset_2015.corr()\n",
    "corr_matrix"
   ]
  },
  {
   "cell_type": "code",
   "execution_count": 184,
   "metadata": {},
   "outputs": [
    {
     "data": {
      "image/png": "[encoded data removed]",
      "text/plain": [
       "<Figure size 432x288 with 2 Axes>"
      ]
     },
     "metadata": {
      "needs_background": "light"
     },
     "output_type": "display_data"
    }
   ],
   "source": [
    "# produce a heatmaps to better visualize the correlation matrices ( 2 ways one is with matplotlib and another just change pandas colour scheme )\n",
    "\n",
    "import matplotlib.pyplot as plt\n",
    "\n",
    "x_labels = corr_matrix.columns.values\n",
    "\n",
    "\n",
    "fig, ax = plt.subplots()\n",
    "im = ax.imshow(corr_matrix)\n",
    "\n",
    "\n",
    "ax.grid(False)\n",
    "ax.set_xticks(np.arange(len(x_labels)))\n",
    "ax.set_yticks(np.arange(len(x_labels)))\n",
    "ax.set_xticklabels(x_labels, rotation=45, horizontalalignment='right')\n",
    "ax.set_yticklabels(x_labels)\n",
    "\n",
    "cbar = ax.figure.colorbar(im,ax=ax, format='%.2f')\n",
    "plt.show()"
   ]
  },
  {
   "cell_type": "code",
   "execution_count": 185,
   "metadata": {},
   "outputs": [
    {
     "data": {
      "text/html": [
       "<style  type=\"text/css\" >\n",
       "#T_e920e74e_6c2f_11eb_b8be_34363bcdac9crow0_col0,#T_e920e74e_6c2f_11eb_b8be_34363bcdac9crow1_col1,#T_e920e74e_6c2f_11eb_b8be_34363bcdac9crow2_col2,#T_e920e74e_6c2f_11eb_b8be_34363bcdac9crow3_col3,#T_e920e74e_6c2f_11eb_b8be_34363bcdac9crow4_col4,#T_e920e74e_6c2f_11eb_b8be_34363bcdac9crow5_col5,#T_e920e74e_6c2f_11eb_b8be_34363bcdac9crow6_col6,#T_e920e74e_6c2f_11eb_b8be_34363bcdac9crow7_col7,#T_e920e74e_6c2f_11eb_b8be_34363bcdac9crow8_col8,#T_e920e74e_6c2f_11eb_b8be_34363bcdac9crow9_col9,#T_e920e74e_6c2f_11eb_b8be_34363bcdac9crow10_col10,#T_e920e74e_6c2f_11eb_b8be_34363bcdac9crow11_col11{\n",
       "            background-color:  #b40426;\n",
       "            color:  #f1f1f1;\n",
       "        }#T_e920e74e_6c2f_11eb_b8be_34363bcdac9crow0_col1,#T_e920e74e_6c2f_11eb_b8be_34363bcdac9crow0_col3,#T_e920e74e_6c2f_11eb_b8be_34363bcdac9crow0_col4,#T_e920e74e_6c2f_11eb_b8be_34363bcdac9crow0_col5,#T_e920e74e_6c2f_11eb_b8be_34363bcdac9crow0_col6,#T_e920e74e_6c2f_11eb_b8be_34363bcdac9crow0_col7,#T_e920e74e_6c2f_11eb_b8be_34363bcdac9crow0_col8,#T_e920e74e_6c2f_11eb_b8be_34363bcdac9crow0_col9,#T_e920e74e_6c2f_11eb_b8be_34363bcdac9crow1_col0,#T_e920e74e_6c2f_11eb_b8be_34363bcdac9crow2_col11,#T_e920e74e_6c2f_11eb_b8be_34363bcdac9crow9_col10,#T_e920e74e_6c2f_11eb_b8be_34363bcdac9crow11_col2{\n",
       "            background-color:  #3b4cc0;\n",
       "            color:  #f1f1f1;\n",
       "        }#T_e920e74e_6c2f_11eb_b8be_34363bcdac9crow0_col2{\n",
       "            background-color:  #b3cdfb;\n",
       "            color:  #000000;\n",
       "        }#T_e920e74e_6c2f_11eb_b8be_34363bcdac9crow0_col10,#T_e920e74e_6c2f_11eb_b8be_34363bcdac9crow10_col6{\n",
       "            background-color:  #abc8fd;\n",
       "            color:  #000000;\n",
       "        }#T_e920e74e_6c2f_11eb_b8be_34363bcdac9crow0_col11,#T_e920e74e_6c2f_11eb_b8be_34363bcdac9crow9_col8{\n",
       "            background-color:  #4961d2;\n",
       "            color:  #f1f1f1;\n",
       "        }#T_e920e74e_6c2f_11eb_b8be_34363bcdac9crow1_col2{\n",
       "            background-color:  #5b7ae5;\n",
       "            color:  #000000;\n",
       "        }#T_e920e74e_6c2f_11eb_b8be_34363bcdac9crow1_col3{\n",
       "            background-color:  #dd5f4b;\n",
       "            color:  #000000;\n",
       "        }#T_e920e74e_6c2f_11eb_b8be_34363bcdac9crow1_col4{\n",
       "            background-color:  #e36c55;\n",
       "            color:  #000000;\n",
       "        }#T_e920e74e_6c2f_11eb_b8be_34363bcdac9crow1_col5{\n",
       "            background-color:  #e57058;\n",
       "            color:  #000000;\n",
       "        }#T_e920e74e_6c2f_11eb_b8be_34363bcdac9crow1_col6{\n",
       "            background-color:  #f6a385;\n",
       "            color:  #000000;\n",
       "        }#T_e920e74e_6c2f_11eb_b8be_34363bcdac9crow1_col7,#T_e920e74e_6c2f_11eb_b8be_34363bcdac9crow5_col11{\n",
       "            background-color:  #ebd3c6;\n",
       "            color:  #000000;\n",
       "        }#T_e920e74e_6c2f_11eb_b8be_34363bcdac9crow1_col8{\n",
       "            background-color:  #9dbdff;\n",
       "            color:  #000000;\n",
       "        }#T_e920e74e_6c2f_11eb_b8be_34363bcdac9crow1_col9{\n",
       "            background-color:  #f7af91;\n",
       "            color:  #000000;\n",
       "        }#T_e920e74e_6c2f_11eb_b8be_34363bcdac9crow1_col10,#T_e920e74e_6c2f_11eb_b8be_34363bcdac9crow5_col0{\n",
       "            background-color:  #6282ea;\n",
       "            color:  #000000;\n",
       "        }#T_e920e74e_6c2f_11eb_b8be_34363bcdac9crow1_col11,#T_e920e74e_6c2f_11eb_b8be_34363bcdac9crow10_col1{\n",
       "            background-color:  #c9d7f0;\n",
       "            color:  #000000;\n",
       "        }#T_e920e74e_6c2f_11eb_b8be_34363bcdac9crow2_col0{\n",
       "            background-color:  #eed0c0;\n",
       "            color:  #000000;\n",
       "        }#T_e920e74e_6c2f_11eb_b8be_34363bcdac9crow2_col1,#T_e920e74e_6c2f_11eb_b8be_34363bcdac9crow4_col11{\n",
       "            background-color:  #c3d5f4;\n",
       "            color:  #000000;\n",
       "        }#T_e920e74e_6c2f_11eb_b8be_34363bcdac9crow2_col3{\n",
       "            background-color:  #a5c3fe;\n",
       "            color:  #000000;\n",
       "        }#T_e920e74e_6c2f_11eb_b8be_34363bcdac9crow2_col4,#T_e920e74e_6c2f_11eb_b8be_34363bcdac9crow5_col9{\n",
       "            background-color:  #b1cbfc;\n",
       "            color:  #000000;\n",
       "        }#T_e920e74e_6c2f_11eb_b8be_34363bcdac9crow2_col5,#T_e920e74e_6c2f_11eb_b8be_34363bcdac9crow3_col10{\n",
       "            background-color:  #8badfd;\n",
       "            color:  #000000;\n",
       "        }#T_e920e74e_6c2f_11eb_b8be_34363bcdac9crow2_col6,#T_e920e74e_6c2f_11eb_b8be_34363bcdac9crow6_col11,#T_e920e74e_6c2f_11eb_b8be_34363bcdac9crow8_col9{\n",
       "            background-color:  #96b7ff;\n",
       "            color:  #000000;\n",
       "        }#T_e920e74e_6c2f_11eb_b8be_34363bcdac9crow2_col7,#T_e920e74e_6c2f_11eb_b8be_34363bcdac9crow6_col2,#T_e920e74e_6c2f_11eb_b8be_34363bcdac9crow10_col9{\n",
       "            background-color:  #6788ee;\n",
       "            color:  #000000;\n",
       "        }#T_e920e74e_6c2f_11eb_b8be_34363bcdac9crow2_col8,#T_e920e74e_6c2f_11eb_b8be_34363bcdac9crow10_col2{\n",
       "            background-color:  #4c66d6;\n",
       "            color:  #000000;\n",
       "        }#T_e920e74e_6c2f_11eb_b8be_34363bcdac9crow2_col9,#T_e920e74e_6c2f_11eb_b8be_34363bcdac9crow9_col6,#T_e920e74e_6c2f_11eb_b8be_34363bcdac9crow10_col7{\n",
       "            background-color:  #bfd3f6;\n",
       "            color:  #000000;\n",
       "        }#T_e920e74e_6c2f_11eb_b8be_34363bcdac9crow2_col10{\n",
       "            background-color:  #4a63d3;\n",
       "            color:  #f1f1f1;\n",
       "        }#T_e920e74e_6c2f_11eb_b8be_34363bcdac9crow3_col0,#T_e920e74e_6c2f_11eb_b8be_34363bcdac9crow7_col2{\n",
       "            background-color:  #5a78e4;\n",
       "            color:  #000000;\n",
       "        }#T_e920e74e_6c2f_11eb_b8be_34363bcdac9crow3_col1{\n",
       "            background-color:  #d95847;\n",
       "            color:  #000000;\n",
       "        }#T_e920e74e_6c2f_11eb_b8be_34363bcdac9crow3_col2{\n",
       "            background-color:  #516ddb;\n",
       "            color:  #000000;\n",
       "        }#T_e920e74e_6c2f_11eb_b8be_34363bcdac9crow3_col4{\n",
       "            background-color:  #ee8669;\n",
       "            color:  #000000;\n",
       "        }#T_e920e74e_6c2f_11eb_b8be_34363bcdac9crow3_col5{\n",
       "            background-color:  #d85646;\n",
       "            color:  #000000;\n",
       "        }#T_e920e74e_6c2f_11eb_b8be_34363bcdac9crow3_col6{\n",
       "            background-color:  #f1ccb8;\n",
       "            color:  #000000;\n",
       "        }#T_e920e74e_6c2f_11eb_b8be_34363bcdac9crow3_col7{\n",
       "            background-color:  #dbdcde;\n",
       "            color:  #000000;\n",
       "        }#T_e920e74e_6c2f_11eb_b8be_34363bcdac9crow3_col8,#T_e920e74e_6c2f_11eb_b8be_34363bcdac9crow4_col0{\n",
       "            background-color:  #6384eb;\n",
       "            color:  #000000;\n",
       "        }#T_e920e74e_6c2f_11eb_b8be_34363bcdac9crow3_col9{\n",
       "            background-color:  #b6cefa;\n",
       "            color:  #000000;\n",
       "        }#T_e920e74e_6c2f_11eb_b8be_34363bcdac9crow3_col11{\n",
       "            background-color:  #ead5c9;\n",
       "            color:  #000000;\n",
       "        }#T_e920e74e_6c2f_11eb_b8be_34363bcdac9crow4_col1{\n",
       "            background-color:  #df634e;\n",
       "            color:  #000000;\n",
       "        }#T_e920e74e_6c2f_11eb_b8be_34363bcdac9crow4_col2{\n",
       "            background-color:  #6a8bef;\n",
       "            color:  #000000;\n",
       "        }#T_e920e74e_6c2f_11eb_b8be_34363bcdac9crow4_col3{\n",
       "            background-color:  #ed8366;\n",
       "            color:  #000000;\n",
       "        }#T_e920e74e_6c2f_11eb_b8be_34363bcdac9crow4_col5,#T_e920e74e_6c2f_11eb_b8be_34363bcdac9crow5_col4{\n",
       "            background-color:  #f6a283;\n",
       "            color:  #000000;\n",
       "        }#T_e920e74e_6c2f_11eb_b8be_34363bcdac9crow4_col6{\n",
       "            background-color:  #f6bfa6;\n",
       "            color:  #000000;\n",
       "        }#T_e920e74e_6c2f_11eb_b8be_34363bcdac9crow4_col7{\n",
       "            background-color:  #c6d6f1;\n",
       "            color:  #000000;\n",
       "        }#T_e920e74e_6c2f_11eb_b8be_34363bcdac9crow4_col8,#T_e920e74e_6c2f_11eb_b8be_34363bcdac9crow6_col10{\n",
       "            background-color:  #80a3fa;\n",
       "            color:  #000000;\n",
       "        }#T_e920e74e_6c2f_11eb_b8be_34363bcdac9crow4_col9{\n",
       "            background-color:  #ccd9ed;\n",
       "            color:  #000000;\n",
       "        }#T_e920e74e_6c2f_11eb_b8be_34363bcdac9crow4_col10{\n",
       "            background-color:  #6485ec;\n",
       "            color:  #000000;\n",
       "        }#T_e920e74e_6c2f_11eb_b8be_34363bcdac9crow5_col1{\n",
       "            background-color:  #e16751;\n",
       "            color:  #000000;\n",
       "        }#T_e920e74e_6c2f_11eb_b8be_34363bcdac9crow5_col2{\n",
       "            background-color:  #3c4ec2;\n",
       "            color:  #f1f1f1;\n",
       "        }#T_e920e74e_6c2f_11eb_b8be_34363bcdac9crow5_col3{\n",
       "            background-color:  #d75445;\n",
       "            color:  #000000;\n",
       "        }#T_e920e74e_6c2f_11eb_b8be_34363bcdac9crow5_col6,#T_e920e74e_6c2f_11eb_b8be_34363bcdac9crow8_col1{\n",
       "            background-color:  #f0cdbb;\n",
       "            color:  #000000;\n",
       "        }#T_e920e74e_6c2f_11eb_b8be_34363bcdac9crow5_col7{\n",
       "            background-color:  #cfdaea;\n",
       "            color:  #000000;\n",
       "        }#T_e920e74e_6c2f_11eb_b8be_34363bcdac9crow5_col8{\n",
       "            background-color:  #86a9fc;\n",
       "            color:  #000000;\n",
       "        }#T_e920e74e_6c2f_11eb_b8be_34363bcdac9crow5_col10,#T_e920e74e_6c2f_11eb_b8be_34363bcdac9crow10_col8{\n",
       "            background-color:  #8db0fe;\n",
       "            color:  #000000;\n",
       "        }#T_e920e74e_6c2f_11eb_b8be_34363bcdac9crow6_col0{\n",
       "            background-color:  #81a4fb;\n",
       "            color:  #000000;\n",
       "        }#T_e920e74e_6c2f_11eb_b8be_34363bcdac9crow6_col1{\n",
       "            background-color:  #f08b6e;\n",
       "            color:  #000000;\n",
       "        }#T_e920e74e_6c2f_11eb_b8be_34363bcdac9crow6_col3{\n",
       "            background-color:  #f6bea4;\n",
       "            color:  #000000;\n",
       "        }#T_e920e74e_6c2f_11eb_b8be_34363bcdac9crow6_col4{\n",
       "            background-color:  #f7b497;\n",
       "            color:  #000000;\n",
       "        }#T_e920e74e_6c2f_11eb_b8be_34363bcdac9crow6_col5,#T_e920e74e_6c2f_11eb_b8be_34363bcdac9crow6_col7{\n",
       "            background-color:  #f5c2aa;\n",
       "            color:  #000000;\n",
       "        }#T_e920e74e_6c2f_11eb_b8be_34363bcdac9crow6_col8{\n",
       "            background-color:  #d2dbe8;\n",
       "            color:  #000000;\n",
       "        }#T_e920e74e_6c2f_11eb_b8be_34363bcdac9crow6_col9,#T_e920e74e_6c2f_11eb_b8be_34363bcdac9crow11_col6{\n",
       "            background-color:  #bbd1f8;\n",
       "            color:  #000000;\n",
       "        }#T_e920e74e_6c2f_11eb_b8be_34363bcdac9crow7_col0{\n",
       "            background-color:  #a2c1ff;\n",
       "            color:  #000000;\n",
       "        }#T_e920e74e_6c2f_11eb_b8be_34363bcdac9crow7_col1{\n",
       "            background-color:  #f7ad90;\n",
       "            color:  #000000;\n",
       "        }#T_e920e74e_6c2f_11eb_b8be_34363bcdac9crow7_col3{\n",
       "            background-color:  #f3c8b2;\n",
       "            color:  #000000;\n",
       "        }#T_e920e74e_6c2f_11eb_b8be_34363bcdac9crow7_col4{\n",
       "            background-color:  #e7d7ce;\n",
       "            color:  #000000;\n",
       "        }#T_e920e74e_6c2f_11eb_b8be_34363bcdac9crow7_col5,#T_e920e74e_6c2f_11eb_b8be_34363bcdac9crow10_col0{\n",
       "            background-color:  #edd2c3;\n",
       "            color:  #000000;\n",
       "        }#T_e920e74e_6c2f_11eb_b8be_34363bcdac9crow7_col6{\n",
       "            background-color:  #f7b599;\n",
       "            color:  #000000;\n",
       "        }#T_e920e74e_6c2f_11eb_b8be_34363bcdac9crow7_col8{\n",
       "            background-color:  #b9d0f9;\n",
       "            color:  #000000;\n",
       "        }#T_e920e74e_6c2f_11eb_b8be_34363bcdac9crow7_col9{\n",
       "            background-color:  #a6c4fe;\n",
       "            color:  #000000;\n",
       "        }#T_e920e74e_6c2f_11eb_b8be_34363bcdac9crow7_col10{\n",
       "            background-color:  #b5cdfa;\n",
       "            color:  #000000;\n",
       "        }#T_e920e74e_6c2f_11eb_b8be_34363bcdac9crow7_col11{\n",
       "            background-color:  #9ebeff;\n",
       "            color:  #000000;\n",
       "        }#T_e920e74e_6c2f_11eb_b8be_34363bcdac9crow8_col0{\n",
       "            background-color:  #c5d6f2;\n",
       "            color:  #000000;\n",
       "        }#T_e920e74e_6c2f_11eb_b8be_34363bcdac9crow8_col2{\n",
       "            background-color:  #7295f4;\n",
       "            color:  #000000;\n",
       "        }#T_e920e74e_6c2f_11eb_b8be_34363bcdac9crow8_col3,#T_e920e74e_6c2f_11eb_b8be_34363bcdac9crow9_col5,#T_e920e74e_6c2f_11eb_b8be_34363bcdac9crow10_col5{\n",
       "            background-color:  #cbd8ee;\n",
       "            color:  #000000;\n",
       "        }#T_e920e74e_6c2f_11eb_b8be_34363bcdac9crow8_col4{\n",
       "            background-color:  #d6dce4;\n",
       "            color:  #000000;\n",
       "        }#T_e920e74e_6c2f_11eb_b8be_34363bcdac9crow8_col5{\n",
       "            background-color:  #d9dce1;\n",
       "            color:  #000000;\n",
       "        }#T_e920e74e_6c2f_11eb_b8be_34363bcdac9crow8_col6{\n",
       "            background-color:  #f2cbb7;\n",
       "            color:  #000000;\n",
       "        }#T_e920e74e_6c2f_11eb_b8be_34363bcdac9crow8_col7{\n",
       "            background-color:  #d5dbe5;\n",
       "            color:  #000000;\n",
       "        }#T_e920e74e_6c2f_11eb_b8be_34363bcdac9crow8_col10{\n",
       "            background-color:  #aac7fd;\n",
       "            color:  #000000;\n",
       "        }#T_e920e74e_6c2f_11eb_b8be_34363bcdac9crow8_col11{\n",
       "            background-color:  #7da0f9;\n",
       "            color:  #000000;\n",
       "        }#T_e920e74e_6c2f_11eb_b8be_34363bcdac9crow9_col0{\n",
       "            background-color:  #88abfd;\n",
       "            color:  #000000;\n",
       "        }#T_e920e74e_6c2f_11eb_b8be_34363bcdac9crow9_col1{\n",
       "            background-color:  #f39475;\n",
       "            color:  #000000;\n",
       "        }#T_e920e74e_6c2f_11eb_b8be_34363bcdac9crow9_col2{\n",
       "            background-color:  #9fbfff;\n",
       "            color:  #000000;\n",
       "        }#T_e920e74e_6c2f_11eb_b8be_34363bcdac9crow9_col3{\n",
       "            background-color:  #d3dbe7;\n",
       "            color:  #000000;\n",
       "        }#T_e920e74e_6c2f_11eb_b8be_34363bcdac9crow9_col4{\n",
       "            background-color:  #dfdbd9;\n",
       "            color:  #000000;\n",
       "        }#T_e920e74e_6c2f_11eb_b8be_34363bcdac9crow9_col7{\n",
       "            background-color:  #8caffe;\n",
       "            color:  #000000;\n",
       "        }#T_e920e74e_6c2f_11eb_b8be_34363bcdac9crow9_col11{\n",
       "            background-color:  #6c8ff1;\n",
       "            color:  #000000;\n",
       "        }#T_e920e74e_6c2f_11eb_b8be_34363bcdac9crow10_col3{\n",
       "            background-color:  #cedaeb;\n",
       "            color:  #000000;\n",
       "        }#T_e920e74e_6c2f_11eb_b8be_34363bcdac9crow10_col4{\n",
       "            background-color:  #afcafc;\n",
       "            color:  #000000;\n",
       "        }#T_e920e74e_6c2f_11eb_b8be_34363bcdac9crow10_col11{\n",
       "            background-color:  #85a8fc;\n",
       "            color:  #000000;\n",
       "        }#T_e920e74e_6c2f_11eb_b8be_34363bcdac9crow11_col0{\n",
       "            background-color:  #b7cff9;\n",
       "            color:  #000000;\n",
       "        }#T_e920e74e_6c2f_11eb_b8be_34363bcdac9crow11_col1{\n",
       "            background-color:  #f4c5ad;\n",
       "            color:  #000000;\n",
       "        }#T_e920e74e_6c2f_11eb_b8be_34363bcdac9crow11_col3{\n",
       "            background-color:  #f7b79b;\n",
       "            color:  #000000;\n",
       "        }#T_e920e74e_6c2f_11eb_b8be_34363bcdac9crow11_col4{\n",
       "            background-color:  #e9d5cb;\n",
       "            color:  #000000;\n",
       "        }#T_e920e74e_6c2f_11eb_b8be_34363bcdac9crow11_col5{\n",
       "            background-color:  #f7b89c;\n",
       "            color:  #000000;\n",
       "        }#T_e920e74e_6c2f_11eb_b8be_34363bcdac9crow11_col7{\n",
       "            background-color:  #a7c5fe;\n",
       "            color:  #000000;\n",
       "        }#T_e920e74e_6c2f_11eb_b8be_34363bcdac9crow11_col8{\n",
       "            background-color:  #5977e3;\n",
       "            color:  #000000;\n",
       "        }#T_e920e74e_6c2f_11eb_b8be_34363bcdac9crow11_col9{\n",
       "            background-color:  #94b6ff;\n",
       "            color:  #000000;\n",
       "        }#T_e920e74e_6c2f_11eb_b8be_34363bcdac9crow11_col10{\n",
       "            background-color:  #82a6fb;\n",
       "            color:  #000000;\n",
       "        }</style><table id=\"T_e920e74e_6c2f_11eb_b8be_34363bcdac9c\" ><thead>    <tr>        <th class=\"blank level0\" ></th>        <th class=\"col_heading level0 col0\" >Happiness Rank</th>        <th class=\"col_heading level0 col1\" >Happiness Score</th>        <th class=\"col_heading level0 col2\" >Standard Error</th>        <th class=\"col_heading level0 col3\" >Economy</th>        <th class=\"col_heading level0 col4\" >Family</th>        <th class=\"col_heading level0 col5\" >Health</th>        <th class=\"col_heading level0 col6\" >Freedom</th>        <th class=\"col_heading level0 col7\" >Trust</th>        <th class=\"col_heading level0 col8\" >Generosity</th>        <th class=\"col_heading level0 col9\" >Dystopia Residual</th>        <th class=\"col_heading level0 col10\" >longitude</th>        <th class=\"col_heading level0 col11\" >latitude</th>    </tr></thead><tbody>\n",
       "                <tr>\n",
       "                        <th id=\"T_e920e74e_6c2f_11eb_b8be_34363bcdac9clevel0_row0\" class=\"row_heading level0 row0\" >Happiness Rank</th>\n",
       "                        <td id=\"T_e920e74e_6c2f_11eb_b8be_34363bcdac9crow0_col0\" class=\"data row0 col0\" >1.000000</td>\n",
       "                        <td id=\"T_e920e74e_6c2f_11eb_b8be_34363bcdac9crow0_col1\" class=\"data row0 col1\" >-0.992105</td>\n",
       "                        <td id=\"T_e920e74e_6c2f_11eb_b8be_34363bcdac9crow0_col2\" class=\"data row0 col2\" >0.158516</td>\n",
       "                        <td id=\"T_e920e74e_6c2f_11eb_b8be_34363bcdac9crow0_col3\" class=\"data row0 col3\" >-0.785267</td>\n",
       "                        <td id=\"T_e920e74e_6c2f_11eb_b8be_34363bcdac9crow0_col4\" class=\"data row0 col4\" >-0.733644</td>\n",
       "                        <td id=\"T_e920e74e_6c2f_11eb_b8be_34363bcdac9crow0_col5\" class=\"data row0 col5\" >-0.735613</td>\n",
       "                        <td id=\"T_e920e74e_6c2f_11eb_b8be_34363bcdac9crow0_col6\" class=\"data row0 col6\" >-0.556886</td>\n",
       "                        <td id=\"T_e920e74e_6c2f_11eb_b8be_34363bcdac9crow0_col7\" class=\"data row0 col7\" >-0.372315</td>\n",
       "                        <td id=\"T_e920e74e_6c2f_11eb_b8be_34363bcdac9crow0_col8\" class=\"data row0 col8\" >-0.160142</td>\n",
       "                        <td id=\"T_e920e74e_6c2f_11eb_b8be_34363bcdac9crow0_col9\" class=\"data row0 col9\" >-0.521999</td>\n",
       "                        <td id=\"T_e920e74e_6c2f_11eb_b8be_34363bcdac9crow0_col10\" class=\"data row0 col10\" >0.138856</td>\n",
       "                        <td id=\"T_e920e74e_6c2f_11eb_b8be_34363bcdac9crow0_col11\" class=\"data row0 col11\" >-0.250699</td>\n",
       "            </tr>\n",
       "            <tr>\n",
       "                        <th id=\"T_e920e74e_6c2f_11eb_b8be_34363bcdac9clevel0_row1\" class=\"row_heading level0 row1\" >Happiness Score</th>\n",
       "                        <td id=\"T_e920e74e_6c2f_11eb_b8be_34363bcdac9crow1_col0\" class=\"data row1 col0\" >-0.992105</td>\n",
       "                        <td id=\"T_e920e74e_6c2f_11eb_b8be_34363bcdac9crow1_col1\" class=\"data row1 col1\" >1.000000</td>\n",
       "                        <td id=\"T_e920e74e_6c2f_11eb_b8be_34363bcdac9crow1_col2\" class=\"data row1 col2\" >-0.177254</td>\n",
       "                        <td id=\"T_e920e74e_6c2f_11eb_b8be_34363bcdac9crow1_col3\" class=\"data row1 col3\" >0.780966</td>\n",
       "                        <td id=\"T_e920e74e_6c2f_11eb_b8be_34363bcdac9crow1_col4\" class=\"data row1 col4\" >0.740605</td>\n",
       "                        <td id=\"T_e920e74e_6c2f_11eb_b8be_34363bcdac9crow1_col5\" class=\"data row1 col5\" >0.724200</td>\n",
       "                        <td id=\"T_e920e74e_6c2f_11eb_b8be_34363bcdac9crow1_col6\" class=\"data row1 col6\" >0.568211</td>\n",
       "                        <td id=\"T_e920e74e_6c2f_11eb_b8be_34363bcdac9crow1_col7\" class=\"data row1 col7\" >0.395199</td>\n",
       "                        <td id=\"T_e920e74e_6c2f_11eb_b8be_34363bcdac9crow1_col8\" class=\"data row1 col8\" >0.180319</td>\n",
       "                        <td id=\"T_e920e74e_6c2f_11eb_b8be_34363bcdac9crow1_col9\" class=\"data row1 col9\" >0.530474</td>\n",
       "                        <td id=\"T_e920e74e_6c2f_11eb_b8be_34363bcdac9crow1_col10\" class=\"data row1 col10\" >-0.137466</td>\n",
       "                        <td id=\"T_e920e74e_6c2f_11eb_b8be_34363bcdac9crow1_col11\" class=\"data row1 col11\" >0.246252</td>\n",
       "            </tr>\n",
       "            <tr>\n",
       "                        <th id=\"T_e920e74e_6c2f_11eb_b8be_34363bcdac9clevel0_row2\" class=\"row_heading level0 row2\" >Standard Error</th>\n",
       "                        <td id=\"T_e920e74e_6c2f_11eb_b8be_34363bcdac9crow2_col0\" class=\"data row2 col0\" >0.158516</td>\n",
       "                        <td id=\"T_e920e74e_6c2f_11eb_b8be_34363bcdac9crow2_col1\" class=\"data row2 col1\" >-0.177254</td>\n",
       "                        <td id=\"T_e920e74e_6c2f_11eb_b8be_34363bcdac9crow2_col2\" class=\"data row2 col2\" >1.000000</td>\n",
       "                        <td id=\"T_e920e74e_6c2f_11eb_b8be_34363bcdac9crow2_col3\" class=\"data row2 col3\" >-0.217651</td>\n",
       "                        <td id=\"T_e920e74e_6c2f_11eb_b8be_34363bcdac9crow2_col4\" class=\"data row2 col4\" >-0.120728</td>\n",
       "                        <td id=\"T_e920e74e_6c2f_11eb_b8be_34363bcdac9crow2_col5\" class=\"data row2 col5\" >-0.310287</td>\n",
       "                        <td id=\"T_e920e74e_6c2f_11eb_b8be_34363bcdac9crow2_col6\" class=\"data row2 col6\" >-0.129773</td>\n",
       "                        <td id=\"T_e920e74e_6c2f_11eb_b8be_34363bcdac9crow2_col7\" class=\"data row2 col7\" >-0.178325</td>\n",
       "                        <td id=\"T_e920e74e_6c2f_11eb_b8be_34363bcdac9crow2_col8\" class=\"data row2 col8\" >-0.088439</td>\n",
       "                        <td id=\"T_e920e74e_6c2f_11eb_b8be_34363bcdac9crow2_col9\" class=\"data row2 col9\" >0.083981</td>\n",
       "                        <td id=\"T_e920e74e_6c2f_11eb_b8be_34363bcdac9crow2_col10\" class=\"data row2 col10\" >-0.235877</td>\n",
       "                        <td id=\"T_e920e74e_6c2f_11eb_b8be_34363bcdac9crow2_col11\" class=\"data row2 col11\" >-0.316298</td>\n",
       "            </tr>\n",
       "            <tr>\n",
       "                        <th id=\"T_e920e74e_6c2f_11eb_b8be_34363bcdac9clevel0_row3\" class=\"row_heading level0 row3\" >Economy</th>\n",
       "                        <td id=\"T_e920e74e_6c2f_11eb_b8be_34363bcdac9crow3_col0\" class=\"data row3 col0\" >-0.785267</td>\n",
       "                        <td id=\"T_e920e74e_6c2f_11eb_b8be_34363bcdac9crow3_col1\" class=\"data row3 col1\" >0.780966</td>\n",
       "                        <td id=\"T_e920e74e_6c2f_11eb_b8be_34363bcdac9crow3_col2\" class=\"data row3 col2\" >-0.217651</td>\n",
       "                        <td id=\"T_e920e74e_6c2f_11eb_b8be_34363bcdac9crow3_col3\" class=\"data row3 col3\" >1.000000</td>\n",
       "                        <td id=\"T_e920e74e_6c2f_11eb_b8be_34363bcdac9crow3_col4\" class=\"data row3 col4\" >0.645299</td>\n",
       "                        <td id=\"T_e920e74e_6c2f_11eb_b8be_34363bcdac9crow3_col5\" class=\"data row3 col5\" >0.816478</td>\n",
       "                        <td id=\"T_e920e74e_6c2f_11eb_b8be_34363bcdac9crow3_col6\" class=\"data row3 col6\" >0.370300</td>\n",
       "                        <td id=\"T_e920e74e_6c2f_11eb_b8be_34363bcdac9crow3_col7\" class=\"data row3 col7\" >0.307885</td>\n",
       "                        <td id=\"T_e920e74e_6c2f_11eb_b8be_34363bcdac9crow3_col8\" class=\"data row3 col8\" >-0.010465</td>\n",
       "                        <td id=\"T_e920e74e_6c2f_11eb_b8be_34363bcdac9crow3_col9\" class=\"data row3 col9\" >0.040059</td>\n",
       "                        <td id=\"T_e920e74e_6c2f_11eb_b8be_34363bcdac9crow3_col10\" class=\"data row3 col10\" >0.016079</td>\n",
       "                        <td id=\"T_e920e74e_6c2f_11eb_b8be_34363bcdac9crow3_col11\" class=\"data row3 col11\" >0.412978</td>\n",
       "            </tr>\n",
       "            <tr>\n",
       "                        <th id=\"T_e920e74e_6c2f_11eb_b8be_34363bcdac9clevel0_row4\" class=\"row_heading level0 row4\" >Family</th>\n",
       "                        <td id=\"T_e920e74e_6c2f_11eb_b8be_34363bcdac9crow4_col0\" class=\"data row4 col0\" >-0.733644</td>\n",
       "                        <td id=\"T_e920e74e_6c2f_11eb_b8be_34363bcdac9crow4_col1\" class=\"data row4 col1\" >0.740605</td>\n",
       "                        <td id=\"T_e920e74e_6c2f_11eb_b8be_34363bcdac9crow4_col2\" class=\"data row4 col2\" >-0.120728</td>\n",
       "                        <td id=\"T_e920e74e_6c2f_11eb_b8be_34363bcdac9crow4_col3\" class=\"data row4 col3\" >0.645299</td>\n",
       "                        <td id=\"T_e920e74e_6c2f_11eb_b8be_34363bcdac9crow4_col4\" class=\"data row4 col4\" >1.000000</td>\n",
       "                        <td id=\"T_e920e74e_6c2f_11eb_b8be_34363bcdac9crow4_col5\" class=\"data row4 col5\" >0.531104</td>\n",
       "                        <td id=\"T_e920e74e_6c2f_11eb_b8be_34363bcdac9crow4_col6\" class=\"data row4 col6\" >0.441518</td>\n",
       "                        <td id=\"T_e920e74e_6c2f_11eb_b8be_34363bcdac9crow4_col7\" class=\"data row4 col7\" >0.205605</td>\n",
       "                        <td id=\"T_e920e74e_6c2f_11eb_b8be_34363bcdac9crow4_col8\" class=\"data row4 col8\" >0.087513</td>\n",
       "                        <td id=\"T_e920e74e_6c2f_11eb_b8be_34363bcdac9crow4_col9\" class=\"data row4 col9\" >0.148117</td>\n",
       "                        <td id=\"T_e920e74e_6c2f_11eb_b8be_34363bcdac9crow4_col10\" class=\"data row4 col10\" >-0.128175</td>\n",
       "                        <td id=\"T_e920e74e_6c2f_11eb_b8be_34363bcdac9crow4_col11\" class=\"data row4 col11\" >0.218878</td>\n",
       "            </tr>\n",
       "            <tr>\n",
       "                        <th id=\"T_e920e74e_6c2f_11eb_b8be_34363bcdac9clevel0_row5\" class=\"row_heading level0 row5\" >Health</th>\n",
       "                        <td id=\"T_e920e74e_6c2f_11eb_b8be_34363bcdac9crow5_col0\" class=\"data row5 col0\" >-0.735613</td>\n",
       "                        <td id=\"T_e920e74e_6c2f_11eb_b8be_34363bcdac9crow5_col1\" class=\"data row5 col1\" >0.724200</td>\n",
       "                        <td id=\"T_e920e74e_6c2f_11eb_b8be_34363bcdac9crow5_col2\" class=\"data row5 col2\" >-0.310287</td>\n",
       "                        <td id=\"T_e920e74e_6c2f_11eb_b8be_34363bcdac9crow5_col3\" class=\"data row5 col3\" >0.816478</td>\n",
       "                        <td id=\"T_e920e74e_6c2f_11eb_b8be_34363bcdac9crow5_col4\" class=\"data row5 col4\" >0.531104</td>\n",
       "                        <td id=\"T_e920e74e_6c2f_11eb_b8be_34363bcdac9crow5_col5\" class=\"data row5 col5\" >1.000000</td>\n",
       "                        <td id=\"T_e920e74e_6c2f_11eb_b8be_34363bcdac9crow5_col6\" class=\"data row5 col6\" >0.360477</td>\n",
       "                        <td id=\"T_e920e74e_6c2f_11eb_b8be_34363bcdac9crow5_col7\" class=\"data row5 col7\" >0.248335</td>\n",
       "                        <td id=\"T_e920e74e_6c2f_11eb_b8be_34363bcdac9crow5_col8\" class=\"data row5 col8\" >0.108335</td>\n",
       "                        <td id=\"T_e920e74e_6c2f_11eb_b8be_34363bcdac9crow5_col9\" class=\"data row5 col9\" >0.018979</td>\n",
       "                        <td id=\"T_e920e74e_6c2f_11eb_b8be_34363bcdac9crow5_col10\" class=\"data row5 col10\" >0.022600</td>\n",
       "                        <td id=\"T_e920e74e_6c2f_11eb_b8be_34363bcdac9crow5_col11\" class=\"data row5 col11\" >0.423024</td>\n",
       "            </tr>\n",
       "            <tr>\n",
       "                        <th id=\"T_e920e74e_6c2f_11eb_b8be_34363bcdac9clevel0_row6\" class=\"row_heading level0 row6\" >Freedom</th>\n",
       "                        <td id=\"T_e920e74e_6c2f_11eb_b8be_34363bcdac9crow6_col0\" class=\"data row6 col0\" >-0.556886</td>\n",
       "                        <td id=\"T_e920e74e_6c2f_11eb_b8be_34363bcdac9crow6_col1\" class=\"data row6 col1\" >0.568211</td>\n",
       "                        <td id=\"T_e920e74e_6c2f_11eb_b8be_34363bcdac9crow6_col2\" class=\"data row6 col2\" >-0.129773</td>\n",
       "                        <td id=\"T_e920e74e_6c2f_11eb_b8be_34363bcdac9crow6_col3\" class=\"data row6 col3\" >0.370300</td>\n",
       "                        <td id=\"T_e920e74e_6c2f_11eb_b8be_34363bcdac9crow6_col4\" class=\"data row6 col4\" >0.441518</td>\n",
       "                        <td id=\"T_e920e74e_6c2f_11eb_b8be_34363bcdac9crow6_col5\" class=\"data row6 col5\" >0.360477</td>\n",
       "                        <td id=\"T_e920e74e_6c2f_11eb_b8be_34363bcdac9crow6_col6\" class=\"data row6 col6\" >1.000000</td>\n",
       "                        <td id=\"T_e920e74e_6c2f_11eb_b8be_34363bcdac9crow6_col7\" class=\"data row6 col7\" >0.493524</td>\n",
       "                        <td id=\"T_e920e74e_6c2f_11eb_b8be_34363bcdac9crow6_col8\" class=\"data row6 col8\" >0.373916</td>\n",
       "                        <td id=\"T_e920e74e_6c2f_11eb_b8be_34363bcdac9crow6_col9\" class=\"data row6 col9\" >0.062783</td>\n",
       "                        <td id=\"T_e920e74e_6c2f_11eb_b8be_34363bcdac9crow6_col10\" class=\"data row6 col10\" >-0.028166</td>\n",
       "                        <td id=\"T_e920e74e_6c2f_11eb_b8be_34363bcdac9crow6_col11\" class=\"data row6 col11\" >0.043668</td>\n",
       "            </tr>\n",
       "            <tr>\n",
       "                        <th id=\"T_e920e74e_6c2f_11eb_b8be_34363bcdac9clevel0_row7\" class=\"row_heading level0 row7\" >Trust</th>\n",
       "                        <td id=\"T_e920e74e_6c2f_11eb_b8be_34363bcdac9crow7_col0\" class=\"data row7 col0\" >-0.372315</td>\n",
       "                        <td id=\"T_e920e74e_6c2f_11eb_b8be_34363bcdac9crow7_col1\" class=\"data row7 col1\" >0.395199</td>\n",
       "                        <td id=\"T_e920e74e_6c2f_11eb_b8be_34363bcdac9crow7_col2\" class=\"data row7 col2\" >-0.178325</td>\n",
       "                        <td id=\"T_e920e74e_6c2f_11eb_b8be_34363bcdac9crow7_col3\" class=\"data row7 col3\" >0.307885</td>\n",
       "                        <td id=\"T_e920e74e_6c2f_11eb_b8be_34363bcdac9crow7_col4\" class=\"data row7 col4\" >0.205605</td>\n",
       "                        <td id=\"T_e920e74e_6c2f_11eb_b8be_34363bcdac9crow7_col5\" class=\"data row7 col5\" >0.248335</td>\n",
       "                        <td id=\"T_e920e74e_6c2f_11eb_b8be_34363bcdac9crow7_col6\" class=\"data row7 col6\" >0.493524</td>\n",
       "                        <td id=\"T_e920e74e_6c2f_11eb_b8be_34363bcdac9crow7_col7\" class=\"data row7 col7\" >1.000000</td>\n",
       "                        <td id=\"T_e920e74e_6c2f_11eb_b8be_34363bcdac9crow7_col8\" class=\"data row7 col8\" >0.276123</td>\n",
       "                        <td id=\"T_e920e74e_6c2f_11eb_b8be_34363bcdac9crow7_col9\" class=\"data row7 col9\" >-0.033105</td>\n",
       "                        <td id=\"T_e920e74e_6c2f_11eb_b8be_34363bcdac9crow7_col10\" class=\"data row7 col10\" >0.174186</td>\n",
       "                        <td id=\"T_e920e74e_6c2f_11eb_b8be_34363bcdac9crow7_col11\" class=\"data row7 col11\" >0.075463</td>\n",
       "            </tr>\n",
       "            <tr>\n",
       "                        <th id=\"T_e920e74e_6c2f_11eb_b8be_34363bcdac9clevel0_row8\" class=\"row_heading level0 row8\" >Generosity</th>\n",
       "                        <td id=\"T_e920e74e_6c2f_11eb_b8be_34363bcdac9crow8_col0\" class=\"data row8 col0\" >-0.160142</td>\n",
       "                        <td id=\"T_e920e74e_6c2f_11eb_b8be_34363bcdac9crow8_col1\" class=\"data row8 col1\" >0.180319</td>\n",
       "                        <td id=\"T_e920e74e_6c2f_11eb_b8be_34363bcdac9crow8_col2\" class=\"data row8 col2\" >-0.088439</td>\n",
       "                        <td id=\"T_e920e74e_6c2f_11eb_b8be_34363bcdac9crow8_col3\" class=\"data row8 col3\" >-0.010465</td>\n",
       "                        <td id=\"T_e920e74e_6c2f_11eb_b8be_34363bcdac9crow8_col4\" class=\"data row8 col4\" >0.087513</td>\n",
       "                        <td id=\"T_e920e74e_6c2f_11eb_b8be_34363bcdac9crow8_col5\" class=\"data row8 col5\" >0.108335</td>\n",
       "                        <td id=\"T_e920e74e_6c2f_11eb_b8be_34363bcdac9crow8_col6\" class=\"data row8 col6\" >0.373916</td>\n",
       "                        <td id=\"T_e920e74e_6c2f_11eb_b8be_34363bcdac9crow8_col7\" class=\"data row8 col7\" >0.276123</td>\n",
       "                        <td id=\"T_e920e74e_6c2f_11eb_b8be_34363bcdac9crow8_col8\" class=\"data row8 col8\" >1.000000</td>\n",
       "                        <td id=\"T_e920e74e_6c2f_11eb_b8be_34363bcdac9crow8_col9\" class=\"data row8 col9\" >-0.101301</td>\n",
       "                        <td id=\"T_e920e74e_6c2f_11eb_b8be_34363bcdac9crow8_col10\" class=\"data row8 col10\" >0.131391</td>\n",
       "                        <td id=\"T_e920e74e_6c2f_11eb_b8be_34363bcdac9crow8_col11\" class=\"data row8 col11\" >-0.046323</td>\n",
       "            </tr>\n",
       "            <tr>\n",
       "                        <th id=\"T_e920e74e_6c2f_11eb_b8be_34363bcdac9clevel0_row9\" class=\"row_heading level0 row9\" >Dystopia Residual</th>\n",
       "                        <td id=\"T_e920e74e_6c2f_11eb_b8be_34363bcdac9crow9_col0\" class=\"data row9 col0\" >-0.521999</td>\n",
       "                        <td id=\"T_e920e74e_6c2f_11eb_b8be_34363bcdac9crow9_col1\" class=\"data row9 col1\" >0.530474</td>\n",
       "                        <td id=\"T_e920e74e_6c2f_11eb_b8be_34363bcdac9crow9_col2\" class=\"data row9 col2\" >0.083981</td>\n",
       "                        <td id=\"T_e920e74e_6c2f_11eb_b8be_34363bcdac9crow9_col3\" class=\"data row9 col3\" >0.040059</td>\n",
       "                        <td id=\"T_e920e74e_6c2f_11eb_b8be_34363bcdac9crow9_col4\" class=\"data row9 col4\" >0.148117</td>\n",
       "                        <td id=\"T_e920e74e_6c2f_11eb_b8be_34363bcdac9crow9_col5\" class=\"data row9 col5\" >0.018979</td>\n",
       "                        <td id=\"T_e920e74e_6c2f_11eb_b8be_34363bcdac9crow9_col6\" class=\"data row9 col6\" >0.062783</td>\n",
       "                        <td id=\"T_e920e74e_6c2f_11eb_b8be_34363bcdac9crow9_col7\" class=\"data row9 col7\" >-0.033105</td>\n",
       "                        <td id=\"T_e920e74e_6c2f_11eb_b8be_34363bcdac9crow9_col8\" class=\"data row9 col8\" >-0.101301</td>\n",
       "                        <td id=\"T_e920e74e_6c2f_11eb_b8be_34363bcdac9crow9_col9\" class=\"data row9 col9\" >1.000000</td>\n",
       "                        <td id=\"T_e920e74e_6c2f_11eb_b8be_34363bcdac9crow9_col10\" class=\"data row9 col10\" >-0.304368</td>\n",
       "                        <td id=\"T_e920e74e_6c2f_11eb_b8be_34363bcdac9crow9_col11\" class=\"data row9 col11\" >-0.106087</td>\n",
       "            </tr>\n",
       "            <tr>\n",
       "                        <th id=\"T_e920e74e_6c2f_11eb_b8be_34363bcdac9clevel0_row10\" class=\"row_heading level0 row10\" >longitude</th>\n",
       "                        <td id=\"T_e920e74e_6c2f_11eb_b8be_34363bcdac9crow10_col0\" class=\"data row10 col0\" >0.138856</td>\n",
       "                        <td id=\"T_e920e74e_6c2f_11eb_b8be_34363bcdac9crow10_col1\" class=\"data row10 col1\" >-0.137466</td>\n",
       "                        <td id=\"T_e920e74e_6c2f_11eb_b8be_34363bcdac9crow10_col2\" class=\"data row10 col2\" >-0.235877</td>\n",
       "                        <td id=\"T_e920e74e_6c2f_11eb_b8be_34363bcdac9crow10_col3\" class=\"data row10 col3\" >0.016079</td>\n",
       "                        <td id=\"T_e920e74e_6c2f_11eb_b8be_34363bcdac9crow10_col4\" class=\"data row10 col4\" >-0.128175</td>\n",
       "                        <td id=\"T_e920e74e_6c2f_11eb_b8be_34363bcdac9crow10_col5\" class=\"data row10 col5\" >0.022600</td>\n",
       "                        <td id=\"T_e920e74e_6c2f_11eb_b8be_34363bcdac9crow10_col6\" class=\"data row10 col6\" >-0.028166</td>\n",
       "                        <td id=\"T_e920e74e_6c2f_11eb_b8be_34363bcdac9crow10_col7\" class=\"data row10 col7\" >0.174186</td>\n",
       "                        <td id=\"T_e920e74e_6c2f_11eb_b8be_34363bcdac9crow10_col8\" class=\"data row10 col8\" >0.131391</td>\n",
       "                        <td id=\"T_e920e74e_6c2f_11eb_b8be_34363bcdac9crow10_col9\" class=\"data row10 col9\" >-0.304368</td>\n",
       "                        <td id=\"T_e920e74e_6c2f_11eb_b8be_34363bcdac9crow10_col10\" class=\"data row10 col10\" >1.000000</td>\n",
       "                        <td id=\"T_e920e74e_6c2f_11eb_b8be_34363bcdac9crow10_col11\" class=\"data row10 col11\" >-0.017306</td>\n",
       "            </tr>\n",
       "            <tr>\n",
       "                        <th id=\"T_e920e74e_6c2f_11eb_b8be_34363bcdac9clevel0_row11\" class=\"row_heading level0 row11\" >latitude</th>\n",
       "                        <td id=\"T_e920e74e_6c2f_11eb_b8be_34363bcdac9crow11_col0\" class=\"data row11 col0\" >-0.250699</td>\n",
       "                        <td id=\"T_e920e74e_6c2f_11eb_b8be_34363bcdac9crow11_col1\" class=\"data row11 col1\" >0.246252</td>\n",
       "                        <td id=\"T_e920e74e_6c2f_11eb_b8be_34363bcdac9crow11_col2\" class=\"data row11 col2\" >-0.316298</td>\n",
       "                        <td id=\"T_e920e74e_6c2f_11eb_b8be_34363bcdac9crow11_col3\" class=\"data row11 col3\" >0.412978</td>\n",
       "                        <td id=\"T_e920e74e_6c2f_11eb_b8be_34363bcdac9crow11_col4\" class=\"data row11 col4\" >0.218878</td>\n",
       "                        <td id=\"T_e920e74e_6c2f_11eb_b8be_34363bcdac9crow11_col5\" class=\"data row11 col5\" >0.423024</td>\n",
       "                        <td id=\"T_e920e74e_6c2f_11eb_b8be_34363bcdac9crow11_col6\" class=\"data row11 col6\" >0.043668</td>\n",
       "                        <td id=\"T_e920e74e_6c2f_11eb_b8be_34363bcdac9crow11_col7\" class=\"data row11 col7\" >0.075463</td>\n",
       "                        <td id=\"T_e920e74e_6c2f_11eb_b8be_34363bcdac9crow11_col8\" class=\"data row11 col8\" >-0.046323</td>\n",
       "                        <td id=\"T_e920e74e_6c2f_11eb_b8be_34363bcdac9crow11_col9\" class=\"data row11 col9\" >-0.106087</td>\n",
       "                        <td id=\"T_e920e74e_6c2f_11eb_b8be_34363bcdac9crow11_col10\" class=\"data row11 col10\" >-0.017306</td>\n",
       "                        <td id=\"T_e920e74e_6c2f_11eb_b8be_34363bcdac9crow11_col11\" class=\"data row11 col11\" >1.000000</td>\n",
       "            </tr>\n",
       "    </tbody></table>"
      ],
      "text/plain": [
       "<pandas.io.formats.style.Styler at 0x7fdb18e0cca0>"
      ]
     },
     "execution_count": 185,
     "metadata": {},
     "output_type": "execute_result"
    }
   ],
   "source": [
    "corr = dataset_2015.corr()\n",
    "corr.style.background_gradient(cmap='coolwarm')"
   ]
  },
  {
   "cell_type": "code",
   "execution_count": 187,
   "metadata": {},
   "outputs": [
    {
     "data": {
      "text/plain": [
       "array([[<AxesSubplot:xlabel='Happiness Score', ylabel='Happiness Score'>,\n",
       "        <AxesSubplot:xlabel='Economy', ylabel='Happiness Score'>,\n",
       "        <AxesSubplot:xlabel='Family', ylabel='Happiness Score'>,\n",
       "        <AxesSubplot:xlabel='Health', ylabel='Happiness Score'>,\n",
       "        <AxesSubplot:xlabel='Freedom', ylabel='Happiness Score'>],\n",
       "       [<AxesSubplot:xlabel='Happiness Score', ylabel='Economy'>,\n",
       "        <AxesSubplot:xlabel='Economy', ylabel='Economy'>,\n",
       "        <AxesSubplot:xlabel='Family', ylabel='Economy'>,\n",
       "        <AxesSubplot:xlabel='Health', ylabel='Economy'>,\n",
       "        <AxesSubplot:xlabel='Freedom', ylabel='Economy'>],\n",
       "       [<AxesSubplot:xlabel='Happiness Score', ylabel='Family'>,\n",
       "        <AxesSubplot:xlabel='Economy', ylabel='Family'>,\n",
       "        <AxesSubplot:xlabel='Family', ylabel='Family'>,\n",
       "        <AxesSubplot:xlabel='Health', ylabel='Family'>,\n",
       "        <AxesSubplot:xlabel='Freedom', ylabel='Family'>],\n",
       "       [<AxesSubplot:xlabel='Happiness Score', ylabel='Health'>,\n",
       "        <AxesSubplot:xlabel='Economy', ylabel='Health'>,\n",
       "        <AxesSubplot:xlabel='Family', ylabel='Health'>,\n",
       "        <AxesSubplot:xlabel='Health', ylabel='Health'>,\n",
       "        <AxesSubplot:xlabel='Freedom', ylabel='Health'>],\n",
       "       [<AxesSubplot:xlabel='Happiness Score', ylabel='Freedom'>,\n",
       "        <AxesSubplot:xlabel='Economy', ylabel='Freedom'>,\n",
       "        <AxesSubplot:xlabel='Family', ylabel='Freedom'>,\n",
       "        <AxesSubplot:xlabel='Health', ylabel='Freedom'>,\n",
       "        <AxesSubplot:xlabel='Freedom', ylabel='Freedom'>]], dtype=object)"
      ]
     },
     "execution_count": 187,
     "metadata": {},
     "output_type": "execute_result"
    },
    {
     "data": {
      "image/png": "[encoded data removed]",
      "text/plain": [
       "<Figure size 864x576 with 25 Axes>"
      ]
     },
     "metadata": {
      "needs_background": "light"
     },
     "output_type": "display_data"
    }
   ],
   "source": [
    "from pandas.plotting import scatter_matrix\n",
    "\n",
    "attributes =[\"Happiness Score\", \"Economy\" , \"Family\" , \"Health\" , \"Freedom\"]\n",
    "\n",
    "scatter_matrix(dataset_2015[attributes], figsize=(12,8))"
   ]
  },
  {
   "cell_type": "markdown",
   "metadata": {},
   "source": [
    "We can do a basic analysis on the correlation\n",
    "\n",
    "1. Happiness Rank and Happiness Score = negative correlation \n",
    "    * when happiness score is high, then the happiness rank is higher (smaller number) \n",
    "2. Economy and Happiness Score = positive correlation \n",
    "    * when the economic is high , then the happiness rank is higher ( smaller number) \n",
    "3. Family and Happiness Score = positive correlation \n",
    "    * when the family score is high , then the happiness score is higher \n",
    "4. Health and Happiness Score = positive correlation \n",
    "5. Health and Economy = strong positive correlation \n"
   ]
  },
  {
   "cell_type": "markdown",
   "metadata": {},
   "source": [
    "Now that we know the correlation between all the feature and we found out that economy, health and family closely related to the happiness score. \n"
   ]
  },
  {
   "cell_type": "markdown",
   "metadata": {},
   "source": [
    "Since we have the data for 2015 to 2019, we can try to visualize and understand the data through out the years. \n",
    "\n",
    "My approach: \n",
    "From 2015 data, I understand that there are a few features that are standing out and have strong correlation with the happiness score/rank. \n",
    "\n",
    "We can get the average score of the feature and try to see what is the average happiness score / rank. We can also create a general function that can visualize the relationship a certain country's feature against years. \n",
    "For example, we know that economy of a country change through out the years, we can plot the economy change against the year and how does that effect the happiness score"
   ]
  },
  {
   "cell_type": "code",
   "execution_count": 189,
   "metadata": {},
   "outputs": [],
   "source": [
    "# through out the year (Happiness Score and Economy for a certain country through out the year)\n",
    "\n",
    "# we need to combine the dataset together\n",
    "   "
   ]
  },
  {
   "cell_type": "code",
   "execution_count": null,
   "metadata": {},
   "outputs": [],
   "source": []
  },
  {
   "cell_type": "markdown",
   "metadata": {},
   "source": [
    "### Preparing the data for Machine Learning Algorithm \n",
    "\n",
    "Let's see can we predict the Happiness Score based on the 3 features which is the economy, health and family. "
   ]
  },
  {
   "cell_type": "code",
   "execution_count": 102,
   "metadata": {},
   "outputs": [],
   "source": [
    "dataset = dataset_2015.drop([\"Happiness Score\" , \"Happiness Rank\"], axis = 1)\n",
    "dataset_labels = dataset_2015[\"Happiness Score\"].copy()"
   ]
  },
  {
   "cell_type": "code",
   "execution_count": 103,
   "metadata": {},
   "outputs": [
    {
     "data": {
      "text/html": [
       "<div>\n",
       "<style scoped>\n",
       "    .dataframe tbody tr th:only-of-type {\n",
       "        vertical-align: middle;\n",
       "    }\n",
       "\n",
       "    .dataframe tbody tr th {\n",
       "        vertical-align: top;\n",
       "    }\n",
       "\n",
       "    .dataframe thead th {\n",
       "        text-align: right;\n",
       "    }\n",
       "</style>\n",
       "<table border=\"1\" class=\"dataframe\">\n",
       "  <thead>\n",
       "    <tr style=\"text-align: right;\">\n",
       "      <th></th>\n",
       "      <th>Country</th>\n",
       "      <th>Region</th>\n",
       "      <th>Standard Error</th>\n",
       "      <th>Economy (GDP per Capita)</th>\n",
       "      <th>Family</th>\n",
       "      <th>Health (Life Expectancy)</th>\n",
       "      <th>Freedom</th>\n",
       "      <th>Trust (Government Corruption)</th>\n",
       "      <th>Generosity</th>\n",
       "      <th>Dystopia Residual</th>\n",
       "      <th>Country_codes</th>\n",
       "      <th>Continent_code</th>\n",
       "      <th>longitude</th>\n",
       "      <th>latitude</th>\n",
       "    </tr>\n",
       "  </thead>\n",
       "  <tbody>\n",
       "    <tr>\n",
       "      <th>10</th>\n",
       "      <td>Israel</td>\n",
       "      <td>Middle East and Northern Africa</td>\n",
       "      <td>0.03470</td>\n",
       "      <td>1.22857</td>\n",
       "      <td>1.22393</td>\n",
       "      <td>0.91387</td>\n",
       "      <td>0.41319</td>\n",
       "      <td>0.07785</td>\n",
       "      <td>0.33172</td>\n",
       "      <td>3.08854</td>\n",
       "      <td>IL</td>\n",
       "      <td>AS</td>\n",
       "      <td>NaN</td>\n",
       "      <td>NaN</td>\n",
       "    </tr>\n",
       "    <tr>\n",
       "      <th>98</th>\n",
       "      <td>Laos</td>\n",
       "      <td>Southeastern Asia</td>\n",
       "      <td>0.06698</td>\n",
       "      <td>0.59066</td>\n",
       "      <td>0.73803</td>\n",
       "      <td>0.54909</td>\n",
       "      <td>0.59591</td>\n",
       "      <td>0.24249</td>\n",
       "      <td>0.42192</td>\n",
       "      <td>1.73799</td>\n",
       "      <td>LA</td>\n",
       "      <td>AS</td>\n",
       "      <td>NaN</td>\n",
       "      <td>NaN</td>\n",
       "    </tr>\n",
       "    <tr>\n",
       "      <th>116</th>\n",
       "      <td>India</td>\n",
       "      <td>Southern Asia</td>\n",
       "      <td>0.02043</td>\n",
       "      <td>0.64499</td>\n",
       "      <td>0.38174</td>\n",
       "      <td>0.51529</td>\n",
       "      <td>0.39786</td>\n",
       "      <td>0.08492</td>\n",
       "      <td>0.26475</td>\n",
       "      <td>2.27513</td>\n",
       "      <td>IN</td>\n",
       "      <td>AS</td>\n",
       "      <td>NaN</td>\n",
       "      <td>NaN</td>\n",
       "    </tr>\n",
       "    <tr>\n",
       "      <th>121</th>\n",
       "      <td>Ethiopia</td>\n",
       "      <td>Sub-Saharan Africa</td>\n",
       "      <td>0.03780</td>\n",
       "      <td>0.19073</td>\n",
       "      <td>0.60406</td>\n",
       "      <td>0.44055</td>\n",
       "      <td>0.43450</td>\n",
       "      <td>0.15048</td>\n",
       "      <td>0.24325</td>\n",
       "      <td>2.44876</td>\n",
       "      <td>ET</td>\n",
       "      <td>AF</td>\n",
       "      <td>NaN</td>\n",
       "      <td>NaN</td>\n",
       "    </tr>\n",
       "  </tbody>\n",
       "</table>\n",
       "</div>"
      ],
      "text/plain": [
       "      Country                           Region  Standard Error  \\\n",
       "10     Israel  Middle East and Northern Africa         0.03470   \n",
       "98       Laos                Southeastern Asia         0.06698   \n",
       "116     India                    Southern Asia         0.02043   \n",
       "121  Ethiopia               Sub-Saharan Africa         0.03780   \n",
       "\n",
       "     Economy (GDP per Capita)   Family  Health (Life Expectancy)  Freedom  \\\n",
       "10                    1.22857  1.22393                   0.91387  0.41319   \n",
       "98                    0.59066  0.73803                   0.54909  0.59591   \n",
       "116                   0.64499  0.38174                   0.51529  0.39786   \n",
       "121                   0.19073  0.60406                   0.44055  0.43450   \n",
       "\n",
       "     Trust (Government Corruption)  Generosity  Dystopia Residual  \\\n",
       "10                         0.07785     0.33172            3.08854   \n",
       "98                         0.24249     0.42192            1.73799   \n",
       "116                        0.08492     0.26475            2.27513   \n",
       "121                        0.15048     0.24325            2.44876   \n",
       "\n",
       "    Country_codes Continent_code  longitude  latitude  \n",
       "10             IL             AS        NaN       NaN  \n",
       "98             LA             AS        NaN       NaN  \n",
       "116            IN             AS        NaN       NaN  \n",
       "121            ET             AF        NaN       NaN  "
      ]
     },
     "execution_count": 103,
     "metadata": {},
     "output_type": "execute_result"
    }
   ],
   "source": [
    "dataset_incomplete_rows = dataset[dataset.isnull().any(axis=1)].head()\n",
    "dataset_incomplete_rows"
   ]
  },
  {
   "cell_type": "code",
   "execution_count": 104,
   "metadata": {},
   "outputs": [],
   "source": [
    "# I do not think we need longitude, latitude,continent_code and country codes maybe we can just drop that two colums\n",
    "dataset = dataset.drop([\"longitude\" , \"latitude\" , \"Country_codes\" , \"Continent_code\" , \"Country\" , \"Region\"], axis = 1)"
   ]
  },
  {
   "cell_type": "code",
   "execution_count": 105,
   "metadata": {},
   "outputs": [],
   "source": [
    "# we need to split the data to training and test set \n",
    "\n",
    "from sklearn.model_selection import train_test_split\n",
    "\n",
    "X_train, X_test , y_train, y_test = train_test_split(dataset ,dataset_labels, test_size = 0.2 , random_state = 42)\n"
   ]
  },
  {
   "cell_type": "markdown",
   "metadata": {},
   "source": [
    "### Select and Train a model \n"
   ]
  },
  {
   "cell_type": "code",
   "execution_count": 106,
   "metadata": {},
   "outputs": [
    {
     "data": {
      "text/plain": [
       "LinearRegression(copy_X=True, fit_intercept=True, n_jobs=None, normalize=False)"
      ]
     },
     "execution_count": 106,
     "metadata": {},
     "output_type": "execute_result"
    }
   ],
   "source": [
    "from sklearn.linear_model import LinearRegression \n",
    "\n",
    "lin_reg = LinearRegression()\n",
    "lin_reg.fit(X_train, y_train)"
   ]
  },
  {
   "cell_type": "code",
   "execution_count": 114,
   "metadata": {},
   "outputs": [
    {
     "data": {
      "text/plain": [
       "array([4.3068948 , 5.98711048, 4.19427325, 2.90449794, 5.05719348,\n",
       "       6.57408073, 4.89750236, 4.87598661, 4.94867686, 3.93079047])"
      ]
     },
     "execution_count": 114,
     "metadata": {},
     "output_type": "execute_result"
    }
   ],
   "source": [
    "lin_reg.predict(X_test)[:10]"
   ]
  },
  {
   "cell_type": "code",
   "execution_count": 115,
   "metadata": {},
   "outputs": [
    {
     "data": {
      "text/plain": [
       "128    4.307\n",
       "45     5.987\n",
       "134    4.194\n",
       "156    2.905\n",
       "90     5.057\n",
       "29     6.574\n",
       "96     4.898\n",
       "98     4.876\n",
       "95     4.949\n",
       "140    3.931\n",
       "Name: Happiness Score, dtype: float64"
      ]
     },
     "execution_count": 115,
     "metadata": {},
     "output_type": "execute_result"
    }
   ],
   "source": [
    "y_test.iloc[:10]"
   ]
  },
  {
   "cell_type": "markdown",
   "metadata": {},
   "source": [
    "We can see that Linear Regression did a pretty good job in predicting the happiness score, but that could be overfiting, so we need some type of metrics to evaluate the the prediction. \n",
    "\n",
    "We can use root mean squared error which tell us how far are the predicted value from the regression line(best fit) "
   ]
  },
  {
   "cell_type": "code",
   "execution_count": 119,
   "metadata": {},
   "outputs": [
    {
     "name": "stdout",
     "output_type": "stream",
     "text": [
      "0.0002735064412996676\n"
     ]
    }
   ],
   "source": [
    "from sklearn.metrics import mean_squared_error \n",
    "\n",
    "happiness_prediction = lin_reg.predict(X_test)\n",
    "lin_mse = mean_squared_error(y_test, happiness_prediction)\n",
    "lin_rmse = np.sqrt(lin_mse)\n",
    "print(lin_rmse)"
   ]
  },
  {
   "cell_type": "markdown",
   "metadata": {},
   "source": [
    "It looks like every predicted value is really close to the regression line considering the average is 0.00027 which is really small. \n"
   ]
  },
  {
   "cell_type": "code",
   "execution_count": null,
   "metadata": {},
   "outputs": [],
   "source": []
  }
 ],
 "metadata": {
  "kernelspec": {
   "display_name": "Python 3",
   "language": "python",
   "name": "python3"
  },
  "language_info": {
   "codemirror_mode": {
    "name": "ipython",
    "version": 3
   },
   "file_extension": ".py",
   "mimetype": "text/x-python",
   "name": "python",
   "nbconvert_exporter": "python",
   "pygments_lexer": "ipython3",
   "version": "3.8.3"
  }
 },
 "nbformat": 4,
 "nbformat_minor": 4
}
